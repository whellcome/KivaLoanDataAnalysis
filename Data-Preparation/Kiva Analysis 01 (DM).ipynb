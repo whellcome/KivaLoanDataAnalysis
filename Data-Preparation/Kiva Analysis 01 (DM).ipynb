{
 "cells": [
  {
   "cell_type": "markdown",
   "id": "8527eea9",
   "metadata": {},
   "source": [
    "# Abschlussprojekt - Data Analytics\n",
    "**wurde von Dietmar Steinle verfasst**\n",
    "\n",
    "\n",
    "\n",
    "## Die Daten verstehen\n",
    "\n",
    "     Datensammlung:\n",
    "**Importieren die erforderlichen Bibliotheken und konfigurieren Parameter**\n",
    "\n",
    " - Die Bibliotheken `numpy` und `pandas` für die Arbeit mit Arrays und tabellarischen Daten sowie `plotly.express` für Visualisierungen werden importiert.\n",
    " - Der Parameter `pd.options.mode.chained_assignment` wird auf `None` gesetzt, um Warnungen bei Zuweisungen über eine Kette zu vermeiden."
   ]
  },
  {
   "cell_type": "code",
   "execution_count": 1,
   "id": "b0224a8e",
   "metadata": {},
   "outputs": [],
   "source": [
    "import numpy as np\n",
    "import pandas as pd\n",
    "import plotly.express as px\n",
    "pd.options.mode.chained_assignment = None"
   ]
  },
  {
   "cell_type": "markdown",
   "id": "c2af24d1",
   "metadata": {},
   "source": [
    "#### Datenladen aus einer CSV-Datei.\n",
    "  - Die Daten werden aus der Datei `\"projekt_data_kiva.csv\"` mit dem Trennzeichen `\"#\"` geladen, die Indizierung erfolgt über die erste Spalte.\n",
    "  - Die ersten drei Zeilen des Datensatzes werden zur Voransicht ausgegeben.\n"
   ]
  },
  {
   "cell_type": "code",
   "execution_count": 3,
   "id": "c78413b5",
   "metadata": {},
   "outputs": [
    {
     "data": {
      "text/html": [
       "<div>\n",
       "<style scoped>\n",
       "    .dataframe tbody tr th:only-of-type {\n",
       "        vertical-align: middle;\n",
       "    }\n",
       "\n",
       "    .dataframe tbody tr th {\n",
       "        vertical-align: top;\n",
       "    }\n",
       "\n",
       "    .dataframe thead th {\n",
       "        text-align: right;\n",
       "    }\n",
       "</style>\n",
       "<table border=\"1\" class=\"dataframe\">\n",
       "  <thead>\n",
       "    <tr style=\"text-align: right;\">\n",
       "      <th></th>\n",
       "      <th>funded_amount</th>\n",
       "      <th>loan_amount</th>\n",
       "      <th>activity</th>\n",
       "      <th>sector</th>\n",
       "      <th>use</th>\n",
       "      <th>country_code</th>\n",
       "      <th>country</th>\n",
       "      <th>region</th>\n",
       "      <th>currency</th>\n",
       "      <th>term_in_months</th>\n",
       "      <th>lender_count</th>\n",
       "      <th>borrower_genders</th>\n",
       "      <th>repayment_interval</th>\n",
       "    </tr>\n",
       "  </thead>\n",
       "  <tbody>\n",
       "    <tr>\n",
       "      <th>0</th>\n",
       "      <td>300.0</td>\n",
       "      <td>300.0</td>\n",
       "      <td>Fruits &amp; Vegetables</td>\n",
       "      <td>Food</td>\n",
       "      <td>To buy seasonal, fresh fruits to sell.</td>\n",
       "      <td>PK</td>\n",
       "      <td>Pakistan</td>\n",
       "      <td>Lahore</td>\n",
       "      <td>PKR</td>\n",
       "      <td>12.0</td>\n",
       "      <td>12</td>\n",
       "      <td>female</td>\n",
       "      <td>irregular</td>\n",
       "    </tr>\n",
       "    <tr>\n",
       "      <th>1</th>\n",
       "      <td>575.0</td>\n",
       "      <td>575.0</td>\n",
       "      <td>Rickshaw</td>\n",
       "      <td>Transportation</td>\n",
       "      <td>to repair and maintain the auto rickshaw used ...</td>\n",
       "      <td>PK</td>\n",
       "      <td>Pakistan</td>\n",
       "      <td>Lahore</td>\n",
       "      <td>PKR</td>\n",
       "      <td>11.0</td>\n",
       "      <td>14</td>\n",
       "      <td>female, female</td>\n",
       "      <td>irregular</td>\n",
       "    </tr>\n",
       "    <tr>\n",
       "      <th>2</th>\n",
       "      <td>150.0</td>\n",
       "      <td>150.0</td>\n",
       "      <td>Transportation</td>\n",
       "      <td>Transportation</td>\n",
       "      <td>To repair their old cycle-van and buy another ...</td>\n",
       "      <td>IN</td>\n",
       "      <td>India</td>\n",
       "      <td>Maynaguri</td>\n",
       "      <td>INR</td>\n",
       "      <td>43.0</td>\n",
       "      <td>6</td>\n",
       "      <td>female</td>\n",
       "      <td>bullet</td>\n",
       "    </tr>\n",
       "  </tbody>\n",
       "</table>\n",
       "</div>"
      ],
      "text/plain": [
       "   funded_amount  loan_amount             activity          sector  \\\n",
       "0          300.0        300.0  Fruits & Vegetables            Food   \n",
       "1          575.0        575.0             Rickshaw  Transportation   \n",
       "2          150.0        150.0       Transportation  Transportation   \n",
       "\n",
       "                                                 use country_code   country  \\\n",
       "0            To buy seasonal, fresh fruits to sell.            PK  Pakistan   \n",
       "1  to repair and maintain the auto rickshaw used ...           PK  Pakistan   \n",
       "2  To repair their old cycle-van and buy another ...           IN     India   \n",
       "\n",
       "      region currency  term_in_months  lender_count borrower_genders  \\\n",
       "0     Lahore      PKR            12.0            12           female   \n",
       "1     Lahore      PKR            11.0            14   female, female   \n",
       "2  Maynaguri      INR            43.0             6           female   \n",
       "\n",
       "  repayment_interval  \n",
       "0          irregular  \n",
       "1          irregular  \n",
       "2             bullet  "
      ]
     },
     "execution_count": 3,
     "metadata": {},
     "output_type": "execute_result"
    }
   ],
   "source": [
    "df_orig = pd.read_csv(\"projekt_data_kiva.csv\", sep=\"#\", index_col=0)\n",
    "df_orig.head(3)"
   ]
  },
  {
   "cell_type": "markdown",
   "id": "601b3d09",
   "metadata": {},
   "source": [
    "#### Überprüfung der Spaltennamen.\n",
    "  - Eine Liste der Spaltennamen im Datensatz wird ausgegeben.\n"
   ]
  },
  {
   "cell_type": "code",
   "execution_count": 5,
   "id": "3a743509",
   "metadata": {},
   "outputs": [
    {
     "data": {
      "text/plain": [
       "Index([' funded_amount', ' loan_amount', ' activity', ' sector', ' use',\n",
       "       ' country_code', ' country', ' region', ' currency', ' term_in_months',\n",
       "       ' lender_count', ' borrower_genders', ' repayment_interval'],\n",
       "      dtype='object')"
      ]
     },
     "execution_count": 5,
     "metadata": {},
     "output_type": "execute_result"
    }
   ],
   "source": [
    "df_orig.columns"
   ]
  },
  {
   "cell_type": "markdown",
   "id": "81393bc4",
   "metadata": {},
   "source": [
    "#### Umbenennen der Spalten.\n",
    "  - Die Spalten werden umbenannt, um Leerzeichen am Anfang und Ende der Namen zu entfernen.\n"
   ]
  },
  {
   "cell_type": "code",
   "execution_count": 7,
   "id": "1b20d646",
   "metadata": {},
   "outputs": [
    {
     "data": {
      "text/plain": [
       "Index(['funded_amount', 'loan_amount', 'activity', 'sector', 'use',\n",
       "       'country_code', 'country', 'region', 'currency', 'term_in_months',\n",
       "       'lender_count', 'borrower_genders', 'repayment_interval'],\n",
       "      dtype='object')"
      ]
     },
     "execution_count": 7,
     "metadata": {},
     "output_type": "execute_result"
    }
   ],
   "source": [
    "df_orig.rename(columns=pd.Series(df_orig.columns.str.strip(),index=df_orig.columns).to_dict(), inplace=True)\n",
    "df_orig.columns"
   ]
  },
  {
   "cell_type": "markdown",
   "id": "40a07341",
   "metadata": {},
   "source": [
    "\n",
    "#### Erhalten von Informationen über die Daten.\n",
    "  - Informationen über den Datensatz werden angezeigt, einschließlich der Anzahl der Zeilen, der Datentypen der Spalten und der Anzahl der Nicht-Null-Werte.\n"
   ]
  },
  {
   "cell_type": "code",
   "execution_count": 9,
   "id": "9a6eac55",
   "metadata": {},
   "outputs": [
    {
     "name": "stdout",
     "output_type": "stream",
     "text": [
      "<class 'pandas.core.frame.DataFrame'>\n",
      "Index: 671205 entries, 0 to 671204\n",
      "Data columns (total 13 columns):\n",
      " #   Column              Non-Null Count   Dtype  \n",
      "---  ------              --------------   -----  \n",
      " 0   funded_amount       671205 non-null  float64\n",
      " 1   loan_amount         671205 non-null  float64\n",
      " 2   activity            671205 non-null  object \n",
      " 3   sector              671205 non-null  object \n",
      " 4   use                 666973 non-null  object \n",
      " 5   country_code        671197 non-null  object \n",
      " 6   country             671205 non-null  object \n",
      " 7   region              614405 non-null  object \n",
      " 8   currency            671205 non-null  object \n",
      " 9   term_in_months      671205 non-null  float64\n",
      " 10  lender_count        671205 non-null  int64  \n",
      " 11  borrower_genders    666984 non-null  object \n",
      " 12  repayment_interval  671205 non-null  object \n",
      "dtypes: float64(3), int64(1), object(9)\n",
      "memory usage: 71.7+ MB\n"
     ]
    }
   ],
   "source": [
    "df_orig.info()"
   ]
  },
  {
   "cell_type": "markdown",
   "id": "1108b537",
   "metadata": {},
   "source": [
    "\n",
    "#### Statistische Datenanalyse.\n",
    "  - Eine statistische Zusammenfassung für numerische Spalten wird angezeigt, einschließlich des Mittelwerts, der Standardabweichung usw.\n"
   ]
  },
  {
   "cell_type": "code",
   "execution_count": 11,
   "id": "4728bc4f",
   "metadata": {},
   "outputs": [
    {
     "data": {
      "text/html": [
       "<div>\n",
       "<style scoped>\n",
       "    .dataframe tbody tr th:only-of-type {\n",
       "        vertical-align: middle;\n",
       "    }\n",
       "\n",
       "    .dataframe tbody tr th {\n",
       "        vertical-align: top;\n",
       "    }\n",
       "\n",
       "    .dataframe thead th {\n",
       "        text-align: right;\n",
       "    }\n",
       "</style>\n",
       "<table border=\"1\" class=\"dataframe\">\n",
       "  <thead>\n",
       "    <tr style=\"text-align: right;\">\n",
       "      <th></th>\n",
       "      <th>funded_amount</th>\n",
       "      <th>loan_amount</th>\n",
       "      <th>term_in_months</th>\n",
       "      <th>lender_count</th>\n",
       "    </tr>\n",
       "  </thead>\n",
       "  <tbody>\n",
       "    <tr>\n",
       "      <th>count</th>\n",
       "      <td>671205.000000</td>\n",
       "      <td>671205.000000</td>\n",
       "      <td>671205.000000</td>\n",
       "      <td>671205.000000</td>\n",
       "    </tr>\n",
       "    <tr>\n",
       "      <th>mean</th>\n",
       "      <td>785.995061</td>\n",
       "      <td>842.397107</td>\n",
       "      <td>13.739022</td>\n",
       "      <td>20.590922</td>\n",
       "    </tr>\n",
       "    <tr>\n",
       "      <th>std</th>\n",
       "      <td>1130.398941</td>\n",
       "      <td>1198.660073</td>\n",
       "      <td>8.598919</td>\n",
       "      <td>28.459551</td>\n",
       "    </tr>\n",
       "    <tr>\n",
       "      <th>min</th>\n",
       "      <td>0.000000</td>\n",
       "      <td>25.000000</td>\n",
       "      <td>1.000000</td>\n",
       "      <td>0.000000</td>\n",
       "    </tr>\n",
       "    <tr>\n",
       "      <th>25%</th>\n",
       "      <td>250.000000</td>\n",
       "      <td>275.000000</td>\n",
       "      <td>8.000000</td>\n",
       "      <td>7.000000</td>\n",
       "    </tr>\n",
       "    <tr>\n",
       "      <th>50%</th>\n",
       "      <td>450.000000</td>\n",
       "      <td>500.000000</td>\n",
       "      <td>13.000000</td>\n",
       "      <td>13.000000</td>\n",
       "    </tr>\n",
       "    <tr>\n",
       "      <th>75%</th>\n",
       "      <td>900.000000</td>\n",
       "      <td>1000.000000</td>\n",
       "      <td>14.000000</td>\n",
       "      <td>24.000000</td>\n",
       "    </tr>\n",
       "    <tr>\n",
       "      <th>max</th>\n",
       "      <td>100000.000000</td>\n",
       "      <td>100000.000000</td>\n",
       "      <td>158.000000</td>\n",
       "      <td>2986.000000</td>\n",
       "    </tr>\n",
       "  </tbody>\n",
       "</table>\n",
       "</div>"
      ],
      "text/plain": [
       "       funded_amount    loan_amount  term_in_months   lender_count\n",
       "count  671205.000000  671205.000000   671205.000000  671205.000000\n",
       "mean      785.995061     842.397107       13.739022      20.590922\n",
       "std      1130.398941    1198.660073        8.598919      28.459551\n",
       "min         0.000000      25.000000        1.000000       0.000000\n",
       "25%       250.000000     275.000000        8.000000       7.000000\n",
       "50%       450.000000     500.000000       13.000000      13.000000\n",
       "75%       900.000000    1000.000000       14.000000      24.000000\n",
       "max    100000.000000  100000.000000      158.000000    2986.000000"
      ]
     },
     "execution_count": 11,
     "metadata": {},
     "output_type": "execute_result"
    }
   ],
   "source": [
    "df_orig.describe()"
   ]
  },
  {
   "cell_type": "markdown",
   "id": "5e9c9a8c",
   "metadata": {},
   "source": [
    "\n",
    "#### Suche nach Duplikaten.\n",
    "  - Die Suche und Anzeige von Zeilen, die Duplikate sind, wird durchgeführt.\n"
   ]
  },
  {
   "cell_type": "code",
   "execution_count": 13,
   "id": "0199c424",
   "metadata": {},
   "outputs": [
    {
     "data": {
      "text/html": [
       "<div>\n",
       "<style scoped>\n",
       "    .dataframe tbody tr th:only-of-type {\n",
       "        vertical-align: middle;\n",
       "    }\n",
       "\n",
       "    .dataframe tbody tr th {\n",
       "        vertical-align: top;\n",
       "    }\n",
       "\n",
       "    .dataframe thead th {\n",
       "        text-align: right;\n",
       "    }\n",
       "</style>\n",
       "<table border=\"1\" class=\"dataframe\">\n",
       "  <thead>\n",
       "    <tr style=\"text-align: right;\">\n",
       "      <th></th>\n",
       "      <th>funded_amount</th>\n",
       "      <th>loan_amount</th>\n",
       "      <th>activity</th>\n",
       "      <th>sector</th>\n",
       "      <th>use</th>\n",
       "      <th>country_code</th>\n",
       "      <th>country</th>\n",
       "      <th>region</th>\n",
       "      <th>currency</th>\n",
       "      <th>term_in_months</th>\n",
       "      <th>lender_count</th>\n",
       "      <th>borrower_genders</th>\n",
       "      <th>repayment_interval</th>\n",
       "    </tr>\n",
       "  </thead>\n",
       "  <tbody>\n",
       "    <tr>\n",
       "      <th>327</th>\n",
       "      <td>275.0</td>\n",
       "      <td>275.0</td>\n",
       "      <td>Farming</td>\n",
       "      <td>Agriculture</td>\n",
       "      <td>to buy fertilizers and other farm supplies.</td>\n",
       "      <td>PH</td>\n",
       "      <td>Philippines</td>\n",
       "      <td>Brookes Point, Palawan</td>\n",
       "      <td>PHP</td>\n",
       "      <td>8.0</td>\n",
       "      <td>8</td>\n",
       "      <td>female</td>\n",
       "      <td>irregular</td>\n",
       "    </tr>\n",
       "    <tr>\n",
       "      <th>392</th>\n",
       "      <td>100.0</td>\n",
       "      <td>100.0</td>\n",
       "      <td>Home Energy</td>\n",
       "      <td>Personal Use</td>\n",
       "      <td>to buy a solar lamp.</td>\n",
       "      <td>SV</td>\n",
       "      <td>El Salvador</td>\n",
       "      <td>NaN</td>\n",
       "      <td>USD</td>\n",
       "      <td>14.0</td>\n",
       "      <td>4</td>\n",
       "      <td>male</td>\n",
       "      <td>monthly</td>\n",
       "    </tr>\n",
       "    <tr>\n",
       "      <th>405</th>\n",
       "      <td>100.0</td>\n",
       "      <td>100.0</td>\n",
       "      <td>Home Energy</td>\n",
       "      <td>Personal Use</td>\n",
       "      <td>to buy a solar-powered lamp.</td>\n",
       "      <td>SV</td>\n",
       "      <td>El Salvador</td>\n",
       "      <td>NaN</td>\n",
       "      <td>USD</td>\n",
       "      <td>14.0</td>\n",
       "      <td>4</td>\n",
       "      <td>male</td>\n",
       "      <td>monthly</td>\n",
       "    </tr>\n",
       "    <tr>\n",
       "      <th>498</th>\n",
       "      <td>100.0</td>\n",
       "      <td>100.0</td>\n",
       "      <td>Home Energy</td>\n",
       "      <td>Personal Use</td>\n",
       "      <td>to buy a solar-powered lamp.</td>\n",
       "      <td>SV</td>\n",
       "      <td>El Salvador</td>\n",
       "      <td>NaN</td>\n",
       "      <td>USD</td>\n",
       "      <td>14.0</td>\n",
       "      <td>4</td>\n",
       "      <td>male</td>\n",
       "      <td>monthly</td>\n",
       "    </tr>\n",
       "    <tr>\n",
       "      <th>606</th>\n",
       "      <td>100.0</td>\n",
       "      <td>100.0</td>\n",
       "      <td>Home Energy</td>\n",
       "      <td>Personal Use</td>\n",
       "      <td>to buy a solar-powered lamp.</td>\n",
       "      <td>SV</td>\n",
       "      <td>El Salvador</td>\n",
       "      <td>NaN</td>\n",
       "      <td>USD</td>\n",
       "      <td>14.0</td>\n",
       "      <td>4</td>\n",
       "      <td>male</td>\n",
       "      <td>monthly</td>\n",
       "    </tr>\n",
       "    <tr>\n",
       "      <th>...</th>\n",
       "      <td>...</td>\n",
       "      <td>...</td>\n",
       "      <td>...</td>\n",
       "      <td>...</td>\n",
       "      <td>...</td>\n",
       "      <td>...</td>\n",
       "      <td>...</td>\n",
       "      <td>...</td>\n",
       "      <td>...</td>\n",
       "      <td>...</td>\n",
       "      <td>...</td>\n",
       "      <td>...</td>\n",
       "      <td>...</td>\n",
       "    </tr>\n",
       "    <tr>\n",
       "      <th>671200</th>\n",
       "      <td>0.0</td>\n",
       "      <td>25.0</td>\n",
       "      <td>Livestock</td>\n",
       "      <td>Agriculture</td>\n",
       "      <td>[True, u'para compara: cemento, arenya y ladri...</td>\n",
       "      <td>PY</td>\n",
       "      <td>Paraguay</td>\n",
       "      <td>Concepción</td>\n",
       "      <td>USD</td>\n",
       "      <td>13.0</td>\n",
       "      <td>0</td>\n",
       "      <td>female</td>\n",
       "      <td>monthly</td>\n",
       "    </tr>\n",
       "    <tr>\n",
       "      <th>671201</th>\n",
       "      <td>25.0</td>\n",
       "      <td>25.0</td>\n",
       "      <td>Livestock</td>\n",
       "      <td>Agriculture</td>\n",
       "      <td>[True, u'to start a turducken farm.'] - this l...</td>\n",
       "      <td>KE</td>\n",
       "      <td>Kenya</td>\n",
       "      <td>NaN</td>\n",
       "      <td>KES</td>\n",
       "      <td>13.0</td>\n",
       "      <td>1</td>\n",
       "      <td>female</td>\n",
       "      <td>monthly</td>\n",
       "    </tr>\n",
       "    <tr>\n",
       "      <th>671202</th>\n",
       "      <td>0.0</td>\n",
       "      <td>25.0</td>\n",
       "      <td>Games</td>\n",
       "      <td>Entertainment</td>\n",
       "      <td>NaN</td>\n",
       "      <td>KE</td>\n",
       "      <td>Kenya</td>\n",
       "      <td>NaN</td>\n",
       "      <td>KES</td>\n",
       "      <td>13.0</td>\n",
       "      <td>0</td>\n",
       "      <td>NaN</td>\n",
       "      <td>monthly</td>\n",
       "    </tr>\n",
       "    <tr>\n",
       "      <th>671203</th>\n",
       "      <td>0.0</td>\n",
       "      <td>25.0</td>\n",
       "      <td>Livestock</td>\n",
       "      <td>Agriculture</td>\n",
       "      <td>[True, u'to start a turducken farm.'] - this l...</td>\n",
       "      <td>KE</td>\n",
       "      <td>Kenya</td>\n",
       "      <td>NaN</td>\n",
       "      <td>KES</td>\n",
       "      <td>13.0</td>\n",
       "      <td>0</td>\n",
       "      <td>female</td>\n",
       "      <td>monthly</td>\n",
       "    </tr>\n",
       "    <tr>\n",
       "      <th>671204</th>\n",
       "      <td>0.0</td>\n",
       "      <td>25.0</td>\n",
       "      <td>Livestock</td>\n",
       "      <td>Agriculture</td>\n",
       "      <td>[True, u'to start a turducken farm.'] - this l...</td>\n",
       "      <td>KE</td>\n",
       "      <td>Kenya</td>\n",
       "      <td>NaN</td>\n",
       "      <td>KES</td>\n",
       "      <td>13.0</td>\n",
       "      <td>0</td>\n",
       "      <td>female</td>\n",
       "      <td>monthly</td>\n",
       "    </tr>\n",
       "  </tbody>\n",
       "</table>\n",
       "<p>34633 rows × 13 columns</p>\n",
       "</div>"
      ],
      "text/plain": [
       "        funded_amount  loan_amount     activity         sector  \\\n",
       "327             275.0        275.0      Farming    Agriculture   \n",
       "392             100.0        100.0  Home Energy   Personal Use   \n",
       "405             100.0        100.0  Home Energy   Personal Use   \n",
       "498             100.0        100.0  Home Energy   Personal Use   \n",
       "606             100.0        100.0  Home Energy   Personal Use   \n",
       "...               ...          ...          ...            ...   \n",
       "671200            0.0         25.0    Livestock    Agriculture   \n",
       "671201           25.0         25.0    Livestock    Agriculture   \n",
       "671202            0.0         25.0        Games  Entertainment   \n",
       "671203            0.0         25.0    Livestock    Agriculture   \n",
       "671204            0.0         25.0    Livestock    Agriculture   \n",
       "\n",
       "                                                      use country_code  \\\n",
       "327           to buy fertilizers and other farm supplies.           PH   \n",
       "392                                  to buy a solar lamp.           SV   \n",
       "405                          to buy a solar-powered lamp.           SV   \n",
       "498                          to buy a solar-powered lamp.           SV   \n",
       "606                          to buy a solar-powered lamp.           SV   \n",
       "...                                                   ...          ...   \n",
       "671200  [True, u'para compara: cemento, arenya y ladri...           PY   \n",
       "671201  [True, u'to start a turducken farm.'] - this l...           KE   \n",
       "671202                                                NaN           KE   \n",
       "671203  [True, u'to start a turducken farm.'] - this l...           KE   \n",
       "671204  [True, u'to start a turducken farm.'] - this l...           KE   \n",
       "\n",
       "            country                  region currency  term_in_months  \\\n",
       "327     Philippines  Brookes Point, Palawan      PHP             8.0   \n",
       "392     El Salvador                     NaN      USD            14.0   \n",
       "405     El Salvador                     NaN      USD            14.0   \n",
       "498     El Salvador                     NaN      USD            14.0   \n",
       "606     El Salvador                     NaN      USD            14.0   \n",
       "...             ...                     ...      ...             ...   \n",
       "671200     Paraguay              Concepción      USD            13.0   \n",
       "671201        Kenya                     NaN      KES            13.0   \n",
       "671202        Kenya                     NaN      KES            13.0   \n",
       "671203        Kenya                     NaN      KES            13.0   \n",
       "671204        Kenya                     NaN      KES            13.0   \n",
       "\n",
       "        lender_count borrower_genders repayment_interval  \n",
       "327                8           female          irregular  \n",
       "392                4             male            monthly  \n",
       "405                4             male            monthly  \n",
       "498                4             male            monthly  \n",
       "606                4             male            monthly  \n",
       "...              ...              ...                ...  \n",
       "671200             0           female            monthly  \n",
       "671201             1           female            monthly  \n",
       "671202             0              NaN            monthly  \n",
       "671203             0           female            monthly  \n",
       "671204             0           female            monthly  \n",
       "\n",
       "[34633 rows x 13 columns]"
      ]
     },
     "execution_count": 13,
     "metadata": {},
     "output_type": "execute_result"
    }
   ],
   "source": [
    "df_orig.loc[df_orig.duplicated(keep=False),:]"
   ]
  },
  {
   "cell_type": "markdown",
   "id": "0c1a35ca",
   "metadata": {},
   "source": [
    "\n",
    "#### Analyse fehlender Werte.\n",
    "  - Der prozentuale Anteil fehlender Werte pro Spalte wird berechnet und angezeigt.\n"
   ]
  },
  {
   "cell_type": "code",
   "execution_count": 15,
   "id": "b1957be8",
   "metadata": {},
   "outputs": [
    {
     "data": {
      "text/plain": [
       "region                8.46\n",
       "use                   0.63\n",
       "borrower_genders      0.63\n",
       "country_code          0.00\n",
       "funded_amount         0.00\n",
       "loan_amount           0.00\n",
       "activity              0.00\n",
       "sector                0.00\n",
       "country               0.00\n",
       "currency              0.00\n",
       "term_in_months        0.00\n",
       "lender_count          0.00\n",
       "repayment_interval    0.00\n",
       "dtype: float64"
      ]
     },
     "execution_count": 15,
     "metadata": {},
     "output_type": "execute_result"
    }
   ],
   "source": [
    "round((df_orig.isna().mean()*100).sort_values(ascending=False),2)"
   ]
  },
  {
   "cell_type": "markdown",
   "id": "c5a7c1e1",
   "metadata": {},
   "source": [
    "\n",
    "#### Datenbereinigung von fehlenden Werten und weitere Vorverarbeitung.\n",
    "  - Zeilen mit fehlenden Werten in bestimmten Spalten werden gelöscht.\n",
    "  - Weitere Vorverarbeitung der Daten wird durchgeführt, einschließlich der Auffüllung fehlender Werte basierend auf dem Modus nach Ländern."
   ]
  },
  {
   "cell_type": "code",
   "execution_count": 17,
   "id": "3f691261",
   "metadata": {},
   "outputs": [
    {
     "data": {
      "text/html": [
       "<div>\n",
       "<style scoped>\n",
       "    .dataframe tbody tr th:only-of-type {\n",
       "        vertical-align: middle;\n",
       "    }\n",
       "\n",
       "    .dataframe tbody tr th {\n",
       "        vertical-align: top;\n",
       "    }\n",
       "\n",
       "    .dataframe thead th {\n",
       "        text-align: right;\n",
       "    }\n",
       "</style>\n",
       "<table border=\"1\" class=\"dataframe\">\n",
       "  <thead>\n",
       "    <tr style=\"text-align: right;\">\n",
       "      <th></th>\n",
       "      <th>funded_amount</th>\n",
       "      <th>loan_amount</th>\n",
       "      <th>activity</th>\n",
       "      <th>sector</th>\n",
       "      <th>use</th>\n",
       "      <th>country_code</th>\n",
       "      <th>country</th>\n",
       "      <th>region</th>\n",
       "      <th>currency</th>\n",
       "      <th>term_in_months</th>\n",
       "      <th>lender_count</th>\n",
       "      <th>borrower_genders</th>\n",
       "      <th>repayment_interval</th>\n",
       "    </tr>\n",
       "  </thead>\n",
       "  <tbody>\n",
       "    <tr>\n",
       "      <th>140</th>\n",
       "      <td>2975.0</td>\n",
       "      <td>2975.0</td>\n",
       "      <td>Food Production/Sales</td>\n",
       "      <td>Food</td>\n",
       "      <td>NaN</td>\n",
       "      <td>TZ</td>\n",
       "      <td>Tanzania</td>\n",
       "      <td>NaN</td>\n",
       "      <td>TZS</td>\n",
       "      <td>10.0</td>\n",
       "      <td>110</td>\n",
       "      <td>NaN</td>\n",
       "      <td>monthly</td>\n",
       "    </tr>\n",
       "    <tr>\n",
       "      <th>145</th>\n",
       "      <td>1200.0</td>\n",
       "      <td>1200.0</td>\n",
       "      <td>Personal Expenses</td>\n",
       "      <td>Personal Use</td>\n",
       "      <td>NaN</td>\n",
       "      <td>PE</td>\n",
       "      <td>Peru</td>\n",
       "      <td>NaN</td>\n",
       "      <td>PEN</td>\n",
       "      <td>20.0</td>\n",
       "      <td>44</td>\n",
       "      <td>NaN</td>\n",
       "      <td>monthly</td>\n",
       "    </tr>\n",
       "    <tr>\n",
       "      <th>170</th>\n",
       "      <td>4250.0</td>\n",
       "      <td>4250.0</td>\n",
       "      <td>Catering</td>\n",
       "      <td>Food</td>\n",
       "      <td>NaN</td>\n",
       "      <td>TZ</td>\n",
       "      <td>Tanzania</td>\n",
       "      <td>NaN</td>\n",
       "      <td>TZS</td>\n",
       "      <td>10.0</td>\n",
       "      <td>116</td>\n",
       "      <td>NaN</td>\n",
       "      <td>monthly</td>\n",
       "    </tr>\n",
       "    <tr>\n",
       "      <th>412</th>\n",
       "      <td>2350.0</td>\n",
       "      <td>2350.0</td>\n",
       "      <td>Beauty Salon</td>\n",
       "      <td>Services</td>\n",
       "      <td>NaN</td>\n",
       "      <td>TZ</td>\n",
       "      <td>Tanzania</td>\n",
       "      <td>NaN</td>\n",
       "      <td>TZS</td>\n",
       "      <td>10.0</td>\n",
       "      <td>75</td>\n",
       "      <td>NaN</td>\n",
       "      <td>monthly</td>\n",
       "    </tr>\n",
       "    <tr>\n",
       "      <th>414</th>\n",
       "      <td>725.0</td>\n",
       "      <td>725.0</td>\n",
       "      <td>Agriculture</td>\n",
       "      <td>Agriculture</td>\n",
       "      <td>NaN</td>\n",
       "      <td>SV</td>\n",
       "      <td>El Salvador</td>\n",
       "      <td>NaN</td>\n",
       "      <td>USD</td>\n",
       "      <td>20.0</td>\n",
       "      <td>19</td>\n",
       "      <td>NaN</td>\n",
       "      <td>monthly</td>\n",
       "    </tr>\n",
       "    <tr>\n",
       "      <th>...</th>\n",
       "      <td>...</td>\n",
       "      <td>...</td>\n",
       "      <td>...</td>\n",
       "      <td>...</td>\n",
       "      <td>...</td>\n",
       "      <td>...</td>\n",
       "      <td>...</td>\n",
       "      <td>...</td>\n",
       "      <td>...</td>\n",
       "      <td>...</td>\n",
       "      <td>...</td>\n",
       "      <td>...</td>\n",
       "      <td>...</td>\n",
       "    </tr>\n",
       "    <tr>\n",
       "      <th>671151</th>\n",
       "      <td>0.0</td>\n",
       "      <td>25.0</td>\n",
       "      <td>Livestock</td>\n",
       "      <td>Agriculture</td>\n",
       "      <td>NaN</td>\n",
       "      <td>KE</td>\n",
       "      <td>Kenya</td>\n",
       "      <td>NaN</td>\n",
       "      <td>KES</td>\n",
       "      <td>13.0</td>\n",
       "      <td>0</td>\n",
       "      <td>NaN</td>\n",
       "      <td>monthly</td>\n",
       "    </tr>\n",
       "    <tr>\n",
       "      <th>671174</th>\n",
       "      <td>0.0</td>\n",
       "      <td>25.0</td>\n",
       "      <td>Games</td>\n",
       "      <td>Entertainment</td>\n",
       "      <td>NaN</td>\n",
       "      <td>KE</td>\n",
       "      <td>Kenya</td>\n",
       "      <td>NaN</td>\n",
       "      <td>KES</td>\n",
       "      <td>13.0</td>\n",
       "      <td>0</td>\n",
       "      <td>NaN</td>\n",
       "      <td>monthly</td>\n",
       "    </tr>\n",
       "    <tr>\n",
       "      <th>671178</th>\n",
       "      <td>0.0</td>\n",
       "      <td>25.0</td>\n",
       "      <td>Livestock</td>\n",
       "      <td>Agriculture</td>\n",
       "      <td>NaN</td>\n",
       "      <td>KE</td>\n",
       "      <td>Kenya</td>\n",
       "      <td>NaN</td>\n",
       "      <td>KES</td>\n",
       "      <td>13.0</td>\n",
       "      <td>0</td>\n",
       "      <td>NaN</td>\n",
       "      <td>monthly</td>\n",
       "    </tr>\n",
       "    <tr>\n",
       "      <th>671185</th>\n",
       "      <td>0.0</td>\n",
       "      <td>25.0</td>\n",
       "      <td>Livestock</td>\n",
       "      <td>Agriculture</td>\n",
       "      <td>NaN</td>\n",
       "      <td>KE</td>\n",
       "      <td>Kenya</td>\n",
       "      <td>NaN</td>\n",
       "      <td>KES</td>\n",
       "      <td>13.0</td>\n",
       "      <td>0</td>\n",
       "      <td>NaN</td>\n",
       "      <td>monthly</td>\n",
       "    </tr>\n",
       "    <tr>\n",
       "      <th>671202</th>\n",
       "      <td>0.0</td>\n",
       "      <td>25.0</td>\n",
       "      <td>Games</td>\n",
       "      <td>Entertainment</td>\n",
       "      <td>NaN</td>\n",
       "      <td>KE</td>\n",
       "      <td>Kenya</td>\n",
       "      <td>NaN</td>\n",
       "      <td>KES</td>\n",
       "      <td>13.0</td>\n",
       "      <td>0</td>\n",
       "      <td>NaN</td>\n",
       "      <td>monthly</td>\n",
       "    </tr>\n",
       "  </tbody>\n",
       "</table>\n",
       "<p>4232 rows × 13 columns</p>\n",
       "</div>"
      ],
      "text/plain": [
       "        funded_amount  loan_amount               activity         sector  use  \\\n",
       "140            2975.0       2975.0  Food Production/Sales           Food  NaN   \n",
       "145            1200.0       1200.0      Personal Expenses   Personal Use  NaN   \n",
       "170            4250.0       4250.0               Catering           Food  NaN   \n",
       "412            2350.0       2350.0           Beauty Salon       Services  NaN   \n",
       "414             725.0        725.0            Agriculture    Agriculture  NaN   \n",
       "...               ...          ...                    ...            ...  ...   \n",
       "671151            0.0         25.0              Livestock    Agriculture  NaN   \n",
       "671174            0.0         25.0                  Games  Entertainment  NaN   \n",
       "671178            0.0         25.0              Livestock    Agriculture  NaN   \n",
       "671185            0.0         25.0              Livestock    Agriculture  NaN   \n",
       "671202            0.0         25.0                  Games  Entertainment  NaN   \n",
       "\n",
       "       country_code      country region currency  term_in_months  \\\n",
       "140              TZ     Tanzania    NaN      TZS            10.0   \n",
       "145              PE         Peru    NaN      PEN            20.0   \n",
       "170              TZ     Tanzania    NaN      TZS            10.0   \n",
       "412              TZ     Tanzania    NaN      TZS            10.0   \n",
       "414              SV  El Salvador    NaN      USD            20.0   \n",
       "...             ...          ...    ...      ...             ...   \n",
       "671151           KE        Kenya    NaN      KES            13.0   \n",
       "671174           KE        Kenya    NaN      KES            13.0   \n",
       "671178           KE        Kenya    NaN      KES            13.0   \n",
       "671185           KE        Kenya    NaN      KES            13.0   \n",
       "671202           KE        Kenya    NaN      KES            13.0   \n",
       "\n",
       "        lender_count borrower_genders repayment_interval  \n",
       "140              110              NaN            monthly  \n",
       "145               44              NaN            monthly  \n",
       "170              116              NaN            monthly  \n",
       "412               75              NaN            monthly  \n",
       "414               19              NaN            monthly  \n",
       "...              ...              ...                ...  \n",
       "671151             0              NaN            monthly  \n",
       "671174             0              NaN            monthly  \n",
       "671178             0              NaN            monthly  \n",
       "671185             0              NaN            monthly  \n",
       "671202             0              NaN            monthly  \n",
       "\n",
       "[4232 rows x 13 columns]"
      ]
     },
     "execution_count": 17,
     "metadata": {},
     "output_type": "execute_result"
    }
   ],
   "source": [
    "df_orig.loc[(df_orig.use.isna() | df_orig.borrower_genders.isna()), :]"
   ]
  },
  {
   "cell_type": "markdown",
   "id": "504b5d28",
   "metadata": {},
   "source": []
  },
  {
   "cell_type": "code",
   "execution_count": 19,
   "id": "2c85abe1",
   "metadata": {},
   "outputs": [
    {
     "data": {
      "text/plain": [
       "region                7.88\n",
       "country_code          0.00\n",
       "funded_amount         0.00\n",
       "loan_amount           0.00\n",
       "activity              0.00\n",
       "sector                0.00\n",
       "use                   0.00\n",
       "country               0.00\n",
       "currency              0.00\n",
       "term_in_months        0.00\n",
       "lender_count          0.00\n",
       "borrower_genders      0.00\n",
       "repayment_interval    0.00\n",
       "dtype: float64"
      ]
     },
     "execution_count": 19,
     "metadata": {},
     "output_type": "execute_result"
    }
   ],
   "source": [
    "df_orig.drop(df_orig[df_orig.use.isna()].index, inplace=True)\n",
    "round((df_orig.isna().mean()*100).sort_values(ascending=False),2)"
   ]
  },
  {
   "cell_type": "markdown",
   "id": "6c5aab74",
   "metadata": {},
   "source": []
  },
  {
   "cell_type": "code",
   "execution_count": 21,
   "id": "750ddac1",
   "metadata": {},
   "outputs": [],
   "source": [
    "country_modes=dict()\n",
    "country_isna = df_orig.country_code[df_orig.region.isna()].unique()\n",
    "for c_code in country_isna:\n",
    "    c_mode = df_orig.loc[df_orig.country_code == c_code, \"region\"].mode()\n",
    "    country_modes[c_code] = c_mode[0] if len(c_mode) else f\"{c_code}-unknown\""
   ]
  },
  {
   "cell_type": "markdown",
   "id": "7441408b",
   "metadata": {},
   "source": [
    "#### Auffüllen fehlender Regionen basierend auf Ländermodi.\n",
    "  - Für jeden einzigartigen Ländercode, bei dem die Region fehlt (`country_isna`), wird die Region mit Werten aus dem Wörterbuch `country_modes` aufgefüllt.\n",
    "  - Nach dem Auffüllen der fehlenden Regionswerte wird der prozentuale Anteil fehlender Werte in allen Spalten berechnet und in absteigender Reihenfolge angezeigt.\n"
   ]
  },
  {
   "cell_type": "code",
   "execution_count": 23,
   "id": "b7354da6",
   "metadata": {},
   "outputs": [
    {
     "data": {
      "text/plain": [
       "country_code          0.0\n",
       "funded_amount         0.0\n",
       "loan_amount           0.0\n",
       "activity              0.0\n",
       "sector                0.0\n",
       "use                   0.0\n",
       "country               0.0\n",
       "region                0.0\n",
       "currency              0.0\n",
       "term_in_months        0.0\n",
       "lender_count          0.0\n",
       "borrower_genders      0.0\n",
       "repayment_interval    0.0\n",
       "dtype: float64"
      ]
     },
     "execution_count": 23,
     "metadata": {},
     "output_type": "execute_result"
    }
   ],
   "source": [
    "for c_code in country_isna:\n",
    "    df_orig.loc[df_orig.country_code == c_code,\"region\"] = country_modes[c_code]\n",
    "round((df_orig.isna().mean()*100).sort_values(ascending=False),2)"
   ]
  },
  {
   "cell_type": "markdown",
   "id": "b8433aec",
   "metadata": {},
   "source": [
    "\n",
    "#### Zählung fehlender Werte.\n",
    "  - Die Anzahl der fehlenden Werte in jeder Spalte des Datensatzes wird angezeigt.\n"
   ]
  },
  {
   "cell_type": "code",
   "execution_count": 25,
   "id": "14d7a50d",
   "metadata": {},
   "outputs": [
    {
     "data": {
      "text/plain": [
       "funded_amount         0\n",
       "loan_amount           0\n",
       "activity              0\n",
       "sector                0\n",
       "use                   0\n",
       "country_code          8\n",
       "country               0\n",
       "region                0\n",
       "currency              0\n",
       "term_in_months        0\n",
       "lender_count          0\n",
       "borrower_genders      0\n",
       "repayment_interval    0\n",
       "dtype: int64"
      ]
     },
     "execution_count": 25,
     "metadata": {},
     "output_type": "execute_result"
    }
   ],
   "source": [
    "df_orig.isna().sum()"
   ]
  },
  {
   "cell_type": "markdown",
   "id": "772995a7",
   "metadata": {},
   "source": [
    "\n",
    "#### Suche nach Zeilen mit fehlendem Ländercode.**\n",
    "  - Zeilen, in denen der Ländercode fehlt, werden angezeigt.\n"
   ]
  },
  {
   "cell_type": "code",
   "execution_count": 27,
   "id": "f276c150",
   "metadata": {},
   "outputs": [
    {
     "data": {
      "text/html": [
       "<div>\n",
       "<style scoped>\n",
       "    .dataframe tbody tr th:only-of-type {\n",
       "        vertical-align: middle;\n",
       "    }\n",
       "\n",
       "    .dataframe tbody tr th {\n",
       "        vertical-align: top;\n",
       "    }\n",
       "\n",
       "    .dataframe thead th {\n",
       "        text-align: right;\n",
       "    }\n",
       "</style>\n",
       "<table border=\"1\" class=\"dataframe\">\n",
       "  <thead>\n",
       "    <tr style=\"text-align: right;\">\n",
       "      <th></th>\n",
       "      <th>funded_amount</th>\n",
       "      <th>loan_amount</th>\n",
       "      <th>activity</th>\n",
       "      <th>sector</th>\n",
       "      <th>use</th>\n",
       "      <th>country_code</th>\n",
       "      <th>country</th>\n",
       "      <th>region</th>\n",
       "      <th>currency</th>\n",
       "      <th>term_in_months</th>\n",
       "      <th>lender_count</th>\n",
       "      <th>borrower_genders</th>\n",
       "      <th>repayment_interval</th>\n",
       "    </tr>\n",
       "  </thead>\n",
       "  <tbody>\n",
       "    <tr>\n",
       "      <th>202537</th>\n",
       "      <td>4150.0</td>\n",
       "      <td>4150.0</td>\n",
       "      <td>Wholesale</td>\n",
       "      <td>Wholesale</td>\n",
       "      <td>To purchase lighting products for sale to loca...</td>\n",
       "      <td>NaN</td>\n",
       "      <td>Namibia</td>\n",
       "      <td>EEnhana</td>\n",
       "      <td>NAD</td>\n",
       "      <td>6.0</td>\n",
       "      <td>162</td>\n",
       "      <td>female</td>\n",
       "      <td>bullet</td>\n",
       "    </tr>\n",
       "    <tr>\n",
       "      <th>202823</th>\n",
       "      <td>4150.0</td>\n",
       "      <td>4150.0</td>\n",
       "      <td>Wholesale</td>\n",
       "      <td>Wholesale</td>\n",
       "      <td>To purchase lighting products for sale to loca...</td>\n",
       "      <td>NaN</td>\n",
       "      <td>Namibia</td>\n",
       "      <td>Rundu</td>\n",
       "      <td>NAD</td>\n",
       "      <td>6.0</td>\n",
       "      <td>159</td>\n",
       "      <td>male</td>\n",
       "      <td>bullet</td>\n",
       "    </tr>\n",
       "    <tr>\n",
       "      <th>344929</th>\n",
       "      <td>3325.0</td>\n",
       "      <td>3325.0</td>\n",
       "      <td>Wholesale</td>\n",
       "      <td>Wholesale</td>\n",
       "      <td>To purchase lighting products for sale to loca...</td>\n",
       "      <td>NaN</td>\n",
       "      <td>Namibia</td>\n",
       "      <td>EEnhana</td>\n",
       "      <td>NAD</td>\n",
       "      <td>7.0</td>\n",
       "      <td>120</td>\n",
       "      <td>female</td>\n",
       "      <td>bullet</td>\n",
       "    </tr>\n",
       "    <tr>\n",
       "      <th>351177</th>\n",
       "      <td>3325.0</td>\n",
       "      <td>3325.0</td>\n",
       "      <td>Wholesale</td>\n",
       "      <td>Wholesale</td>\n",
       "      <td>To purchase lighting products for sale to loca...</td>\n",
       "      <td>NaN</td>\n",
       "      <td>Namibia</td>\n",
       "      <td>Rundu</td>\n",
       "      <td>NAD</td>\n",
       "      <td>7.0</td>\n",
       "      <td>126</td>\n",
       "      <td>male</td>\n",
       "      <td>bullet</td>\n",
       "    </tr>\n",
       "    <tr>\n",
       "      <th>420953</th>\n",
       "      <td>3325.0</td>\n",
       "      <td>3325.0</td>\n",
       "      <td>Wholesale</td>\n",
       "      <td>Wholesale</td>\n",
       "      <td>To purchase lighting products for sale to loca...</td>\n",
       "      <td>NaN</td>\n",
       "      <td>Namibia</td>\n",
       "      <td>EEnhana</td>\n",
       "      <td>NAD</td>\n",
       "      <td>7.0</td>\n",
       "      <td>118</td>\n",
       "      <td>female</td>\n",
       "      <td>bullet</td>\n",
       "    </tr>\n",
       "    <tr>\n",
       "      <th>421218</th>\n",
       "      <td>4000.0</td>\n",
       "      <td>4000.0</td>\n",
       "      <td>Wholesale</td>\n",
       "      <td>Wholesale</td>\n",
       "      <td>purchase solar lighting products for sale to l...</td>\n",
       "      <td>NaN</td>\n",
       "      <td>Namibia</td>\n",
       "      <td>Rundu</td>\n",
       "      <td>NAD</td>\n",
       "      <td>7.0</td>\n",
       "      <td>150</td>\n",
       "      <td>male</td>\n",
       "      <td>bullet</td>\n",
       "    </tr>\n",
       "    <tr>\n",
       "      <th>487207</th>\n",
       "      <td>5100.0</td>\n",
       "      <td>5100.0</td>\n",
       "      <td>Renewable Energy Products</td>\n",
       "      <td>Retail</td>\n",
       "      <td>to pay for stock of solar lights and cell phon...</td>\n",
       "      <td>NaN</td>\n",
       "      <td>Namibia</td>\n",
       "      <td>Katima Mulilo</td>\n",
       "      <td>NAD</td>\n",
       "      <td>7.0</td>\n",
       "      <td>183</td>\n",
       "      <td>male</td>\n",
       "      <td>bullet</td>\n",
       "    </tr>\n",
       "    <tr>\n",
       "      <th>487653</th>\n",
       "      <td>5000.0</td>\n",
       "      <td>5000.0</td>\n",
       "      <td>Wholesale</td>\n",
       "      <td>Wholesale</td>\n",
       "      <td>to maintain a stock of solar lights and cell p...</td>\n",
       "      <td>NaN</td>\n",
       "      <td>Namibia</td>\n",
       "      <td>Oshakati</td>\n",
       "      <td>NAD</td>\n",
       "      <td>7.0</td>\n",
       "      <td>183</td>\n",
       "      <td>female</td>\n",
       "      <td>bullet</td>\n",
       "    </tr>\n",
       "  </tbody>\n",
       "</table>\n",
       "</div>"
      ],
      "text/plain": [
       "        funded_amount  loan_amount                   activity     sector  \\\n",
       "202537         4150.0       4150.0                  Wholesale  Wholesale   \n",
       "202823         4150.0       4150.0                  Wholesale  Wholesale   \n",
       "344929         3325.0       3325.0                  Wholesale  Wholesale   \n",
       "351177         3325.0       3325.0                  Wholesale  Wholesale   \n",
       "420953         3325.0       3325.0                  Wholesale  Wholesale   \n",
       "421218         4000.0       4000.0                  Wholesale  Wholesale   \n",
       "487207         5100.0       5100.0  Renewable Energy Products     Retail   \n",
       "487653         5000.0       5000.0                  Wholesale  Wholesale   \n",
       "\n",
       "                                                      use country_code  \\\n",
       "202537  To purchase lighting products for sale to loca...          NaN   \n",
       "202823  To purchase lighting products for sale to loca...          NaN   \n",
       "344929  To purchase lighting products for sale to loca...          NaN   \n",
       "351177  To purchase lighting products for sale to loca...          NaN   \n",
       "420953  To purchase lighting products for sale to loca...          NaN   \n",
       "421218  purchase solar lighting products for sale to l...          NaN   \n",
       "487207  to pay for stock of solar lights and cell phon...          NaN   \n",
       "487653  to maintain a stock of solar lights and cell p...          NaN   \n",
       "\n",
       "        country         region currency  term_in_months  lender_count  \\\n",
       "202537  Namibia        EEnhana      NAD             6.0           162   \n",
       "202823  Namibia          Rundu      NAD             6.0           159   \n",
       "344929  Namibia        EEnhana      NAD             7.0           120   \n",
       "351177  Namibia          Rundu      NAD             7.0           126   \n",
       "420953  Namibia        EEnhana      NAD             7.0           118   \n",
       "421218  Namibia          Rundu      NAD             7.0           150   \n",
       "487207  Namibia  Katima Mulilo      NAD             7.0           183   \n",
       "487653  Namibia       Oshakati      NAD             7.0           183   \n",
       "\n",
       "       borrower_genders repayment_interval  \n",
       "202537           female             bullet  \n",
       "202823             male             bullet  \n",
       "344929           female             bullet  \n",
       "351177             male             bullet  \n",
       "420953           female             bullet  \n",
       "421218             male             bullet  \n",
       "487207             male             bullet  \n",
       "487653           female             bullet  "
      ]
     },
     "execution_count": 27,
     "metadata": {},
     "output_type": "execute_result"
    }
   ],
   "source": [
    "df_orig.loc[df_orig.country_code.isna(), :]"
   ]
  },
  {
   "cell_type": "markdown",
   "id": "ca73bfcb",
   "metadata": {},
   "source": [
    "\n",
    "#### Korrektur des Ländercodes für Namibia.\n",
    "  - Für Zeilen, in denen das Land als \"Namibia\" angegeben ist, wird der Ländercode auf \"NA\" korrigiert.\n",
    "  - Nach der Korrektur wird die Anzahl der fehlenden Werte in jeder Spalte erneut angezeigt.\n"
   ]
  },
  {
   "cell_type": "code",
   "execution_count": 29,
   "id": "6bcf524f",
   "metadata": {},
   "outputs": [
    {
     "data": {
      "text/plain": [
       "funded_amount         0\n",
       "loan_amount           0\n",
       "activity              0\n",
       "sector                0\n",
       "use                   0\n",
       "country_code          0\n",
       "country               0\n",
       "region                0\n",
       "currency              0\n",
       "term_in_months        0\n",
       "lender_count          0\n",
       "borrower_genders      0\n",
       "repayment_interval    0\n",
       "dtype: int64"
      ]
     },
     "execution_count": 29,
     "metadata": {},
     "output_type": "execute_result"
    }
   ],
   "source": [
    "df_orig.loc[df_orig.country == \"Namibia\", \"country_code\"]=\"NA\"\n",
    "df_orig.isna().sum()"
   ]
  },
  {
   "cell_type": "markdown",
   "id": "65fc197e",
   "metadata": {},
   "source": [
    "\n",
    "#### Abrufen der Liste der Spalten mit Textdaten.\n",
    "  - Eine Liste der Spalten wird angezeigt, deren Daten einen Text- (Objekt-)Typ haben.\n"
   ]
  },
  {
   "cell_type": "code",
   "execution_count": 31,
   "id": "ccdf4a55",
   "metadata": {},
   "outputs": [
    {
     "data": {
      "text/plain": [
       "Index(['activity', 'sector', 'use', 'country_code', 'country', 'region',\n",
       "       'currency', 'borrower_genders', 'repayment_interval'],\n",
       "      dtype='object')"
      ]
     },
     "execution_count": 31,
     "metadata": {},
     "output_type": "execute_result"
    }
   ],
   "source": [
    "df_orig.columns[df_orig.dtypes == object]"
   ]
  },
  {
   "cell_type": "markdown",
   "id": "9d8ceac2",
   "metadata": {},
   "source": [
    "\n",
    "#### NaN Snonyme suchen, Anzeigen einzigartiger Werte für Textspalten.\n",
    "  - Eine Liste von Spalten mit Textdaten wird erstellt, ausgenommen \"use\", \"borrower_genders\" und \"region\", die nich untersucht werden.\n",
    "  - Für jede Spalte aus der erstellten Liste werden einzigartige Werte angezeigt.\n"
   ]
  },
  {
   "cell_type": "code",
   "execution_count": 33,
   "id": "c9cbf36f",
   "metadata": {},
   "outputs": [
    {
     "name": "stdout",
     "output_type": "stream",
     "text": [
      "['Fruits & Vegetables' 'Rickshaw' 'Transportation' 'Embroidery'\n",
      " 'Milk Sales' 'Services' 'Dairy' 'Beauty Salon' 'Manufacturing'\n",
      " 'Food Production/Sales' 'Wholesale' 'General Store' 'Clothing Sales'\n",
      " 'Poultry' 'Tailoring' 'Sewing' 'Bakery' 'Restaurant' 'Food Stall'\n",
      " 'Farming' 'Construction Supplies' 'Personal Products Sales'\n",
      " 'Home Products Sales' 'Natural Medicines' 'Fish Selling'\n",
      " 'Education provider' 'Shoe Sales' 'Machinery Rental' 'Butcher Shop'\n",
      " 'Pigs' 'Personal Expenses' 'Food Market' 'Cosmetics Sales'\n",
      " 'Personal Housing Expenses' 'Retail' 'Energy' 'Grocery Store'\n",
      " 'Construction' 'Agriculture' 'Motorcycle Transport' 'Charcoal Sales'\n",
      " 'Food' 'Pharmacy' 'Fishing' 'Timber Sales' 'Cattle' 'Electronics Repair'\n",
      " 'Electronics Sales' 'Vehicle' 'Cafe' 'Blacksmith'\n",
      " 'Higher education costs' 'Used Clothing' 'Fuel/Firewood' 'Upholstery'\n",
      " 'Animal Sales' 'Cereals' 'Vehicle Repairs' 'Arts'\n",
      " 'Cloth & Dressmaking Supplies' 'Mobile Phones' 'Spare Parts' 'Clothing'\n",
      " 'Metal Shop' 'Barber Shop' 'Furniture Making' 'Catering' 'Crafts'\n",
      " 'Home Energy' 'Home Appliances' 'Wedding Expenses' 'Taxi'\n",
      " 'Secretarial Services' 'Livestock' 'Property' 'Recycling' 'Farm Supplies'\n",
      " 'Auto Repair' 'Beverages' 'Plastics Sales' 'Electrical Goods' 'Carpentry'\n",
      " 'Photography' 'Jewelry' 'Bricks' 'Pub' 'Phone Use Sales'\n",
      " 'Water Distribution' 'Paper Sales' 'Computers'\n",
      " 'Liquor Store / Off-License' 'Utilities' 'Knitting' 'Weaving'\n",
      " 'Party Supplies' 'Medical Clinic' 'Internet Cafe' 'Consumer Goods'\n",
      " 'Cement' 'Electrician' 'Primary/secondary school costs'\n",
      " 'Veterinary Sales' 'Land Rental' 'Laundry' 'Call Center' 'Perfumes'\n",
      " 'Hotel' 'Motorcycle Repair' 'Movie Tapes & DVDs' 'Quarrying'\n",
      " 'Personal Medical Expenses' 'Bookstore' 'Decorations Sales'\n",
      " 'Recycled Materials' 'Office Supplies' 'Souvenir Sales'\n",
      " 'Renewable Energy Products' 'Health' 'Printing' 'Traveling Sales'\n",
      " 'Flowers' 'Bicycle Repair' 'Entertainment' 'Phone Accessories' 'Hardware'\n",
      " 'Used Shoes' 'Music Discs & Tapes' 'Games' 'Balut-Making' 'Textiles'\n",
      " 'Child Care' 'Goods Distribution' 'Florist' 'Cobbler' 'Dental'\n",
      " 'Bookbinding' 'Cheese Making' 'Bicycle Sales' 'Well digging' 'Technology'\n",
      " 'Phone Repair' 'Musical Performance' 'Waste Management' 'Film' 'Tourism'\n",
      " 'Musical Instruments' 'Religious Articles' 'Machine Shop'\n",
      " 'Cleaning Services' 'Patchwork' 'Funerals' 'Sporting Good Sales'\n",
      " 'Air Conditioning' 'Communications' 'Adult Care'\n",
      " 'Landscaping / Gardening' 'Aquaculture' 'Beekeeping' 'Event Planning'\n",
      " 'Celebrations' 'Computer' 'Personal Care Products' 'Mobile Transactions']\n",
      "['Food' 'Transportation' 'Arts' 'Services' 'Agriculture' 'Manufacturing'\n",
      " 'Wholesale' 'Retail' 'Clothing' 'Construction' 'Health' 'Education'\n",
      " 'Personal Use' 'Housing' 'Entertainment']\n",
      "['PK' 'IN' 'KE' 'NI' 'SV' 'TZ' 'PH' 'PE' 'SN' 'KH' 'LR' 'VN' 'IQ' 'HN'\n",
      " 'PS' 'MN' 'US' 'ML' 'CO' 'TJ' 'GT' 'EC' 'BO' 'YE' 'GH' 'SL' 'HT' 'CL'\n",
      " 'JO' 'UG' 'BI' 'BF' 'TL' 'ID' 'GE' 'UA' 'XK' 'AL' 'CD' 'CR' 'SO' 'ZW'\n",
      " 'CM' 'TR' 'AZ' 'DO' 'BR' 'MX' 'KG' 'AM' 'PY' 'LB' 'WS' 'IL' 'RW' 'ZM'\n",
      " 'NP' 'CG' 'MZ' 'ZA' 'TG' 'BJ' 'BZ' 'SR' 'TH' 'NG' 'MR' 'VU' 'PA' 'VI'\n",
      " 'VC' 'LA' 'MM' 'MW' 'MD' 'SS' 'SB' 'CN' 'EG' 'GU' 'AF' 'MG' 'NA' 'PR'\n",
      " 'LS' 'CI' 'BT']\n",
      "['Pakistan' 'India' 'Kenya' 'Nicaragua' 'El Salvador' 'Tanzania'\n",
      " 'Philippines' 'Peru' 'Senegal' 'Cambodia' 'Liberia' 'Vietnam' 'Iraq'\n",
      " 'Honduras' 'Palestine' 'Mongolia' 'United States' 'Mali' 'Colombia'\n",
      " 'Tajikistan' 'Guatemala' 'Ecuador' 'Bolivia' 'Yemen' 'Ghana'\n",
      " 'Sierra Leone' 'Haiti' 'Chile' 'Jordan' 'Uganda' 'Burundi' 'Burkina Faso'\n",
      " 'Timor-Leste' 'Indonesia' 'Georgia' 'Ukraine' 'Kosovo' 'Albania'\n",
      " 'The Democratic Republic of the Congo' 'Costa Rica' 'Somalia' 'Zimbabwe'\n",
      " 'Cameroon' 'Turkey' 'Azerbaijan' 'Dominican Republic' 'Brazil' 'Mexico'\n",
      " 'Kyrgyzstan' 'Armenia' 'Paraguay' 'Lebanon' 'Samoa' 'Israel' 'Rwanda'\n",
      " 'Zambia' 'Nepal' 'Congo' 'Mozambique' 'South Africa' 'Togo' 'Benin'\n",
      " 'Belize' 'Suriname' 'Thailand' 'Nigeria' 'Mauritania' 'Vanuatu' 'Panama'\n",
      " 'Virgin Islands' 'Saint Vincent and the Grenadines'\n",
      " \"Lao People's Democratic Republic\" 'Myanmar (Burma)' 'Malawi' 'Moldova'\n",
      " 'South Sudan' 'Solomon Islands' 'China' 'Egypt' 'Guam' 'Afghanistan'\n",
      " 'Madagascar' 'Namibia' 'Puerto Rico' 'Lesotho' \"Cote D'Ivoire\" 'Bhutan']\n",
      "['PKR' 'INR' 'KES' 'NIO' 'USD' 'TZS' 'PHP' 'PEN' 'XOF' 'LRD' 'VND' 'HNL'\n",
      " 'MNT' 'COP' 'GTQ' 'TJS' 'BOB' 'YER' 'KHR' 'GHS' 'SLL' 'HTG' 'CLP' 'JOD'\n",
      " 'UGX' 'BIF' 'IDR' 'GEL' 'UAH' 'EUR' 'ALL' 'CRC' 'XAF' 'TRY' 'AZN' 'DOP'\n",
      " 'BRL' 'MXN' 'KGS' 'AMD' 'PYG' 'LBP' 'WST' 'ILS' 'RWF' 'ZMW' 'NPR' 'MZN'\n",
      " 'ZAR' 'BZD' 'SRD' 'NGN' 'VUV' 'XCD' 'LAK' 'MMK' 'MWK' 'ZWD' 'MDL' 'SSP'\n",
      " 'SBD' 'CNY' 'EGP' 'MGA' 'NAD' 'LSL' 'THB']\n",
      "['irregular' 'bullet' 'monthly' 'weekly']\n"
     ]
    }
   ],
   "source": [
    "obj_cols=list(df_orig.columns[df_orig.dtypes == object])\n",
    "obj_cols.remove(\"use\")\n",
    "obj_cols.remove(\"borrower_genders\")\n",
    "obj_cols.remove(\"region\")\n",
    "for col in obj_cols:\n",
    "    print(df_orig[col].unique())"
   ]
  },
  {
   "cell_type": "markdown",
   "id": "3f1ec333",
   "metadata": {},
   "source": [
    "\n",
    "#### Gruppierung der Daten mit Zählung der Anfragen.\n",
    "  - Die Daten werden nach allen Spalten gruppiert, und für jede einzigartige Kombination wird die Anzahl der Anfragen gezählt.\n",
    "  - Die Spalte mit der Anzahl der Anfragen wird in \"requests_count\" umbenannt.\n"
   ]
  },
  {
   "cell_type": "code",
   "execution_count": 35,
   "id": "72f9e830",
   "metadata": {},
   "outputs": [
    {
     "data": {
      "text/html": [
       "<div>\n",
       "<style scoped>\n",
       "    .dataframe tbody tr th:only-of-type {\n",
       "        vertical-align: middle;\n",
       "    }\n",
       "\n",
       "    .dataframe tbody tr th {\n",
       "        vertical-align: top;\n",
       "    }\n",
       "\n",
       "    .dataframe thead th {\n",
       "        text-align: right;\n",
       "    }\n",
       "</style>\n",
       "<table border=\"1\" class=\"dataframe\">\n",
       "  <thead>\n",
       "    <tr style=\"text-align: right;\">\n",
       "      <th></th>\n",
       "      <th>funded_amount</th>\n",
       "      <th>loan_amount</th>\n",
       "      <th>activity</th>\n",
       "      <th>sector</th>\n",
       "      <th>use</th>\n",
       "      <th>country_code</th>\n",
       "      <th>country</th>\n",
       "      <th>region</th>\n",
       "      <th>currency</th>\n",
       "      <th>term_in_months</th>\n",
       "      <th>lender_count</th>\n",
       "      <th>borrower_genders</th>\n",
       "      <th>repayment_interval</th>\n",
       "      <th>requests_count</th>\n",
       "    </tr>\n",
       "  </thead>\n",
       "  <tbody>\n",
       "    <tr>\n",
       "      <th>0</th>\n",
       "      <td>0.0</td>\n",
       "      <td>25.0</td>\n",
       "      <td>Games</td>\n",
       "      <td>Entertainment</td>\n",
       "      <td>Kiva Coordinator replaced loan use. Should see...</td>\n",
       "      <td>KE</td>\n",
       "      <td>Kenya</td>\n",
       "      <td>Kisii</td>\n",
       "      <td>KES</td>\n",
       "      <td>13.0</td>\n",
       "      <td>0</td>\n",
       "      <td>female, female</td>\n",
       "      <td>monthly</td>\n",
       "      <td>1</td>\n",
       "    </tr>\n",
       "    <tr>\n",
       "      <th>1</th>\n",
       "      <td>0.0</td>\n",
       "      <td>25.0</td>\n",
       "      <td>Livestock</td>\n",
       "      <td>Agriculture</td>\n",
       "      <td>Kiva Coordinator fixed issue loan (no longer v...</td>\n",
       "      <td>KE</td>\n",
       "      <td>Kenya</td>\n",
       "      <td>Kisii</td>\n",
       "      <td>KES</td>\n",
       "      <td>13.0</td>\n",
       "      <td>0</td>\n",
       "      <td>female, female</td>\n",
       "      <td>monthly</td>\n",
       "      <td>3</td>\n",
       "    </tr>\n",
       "    <tr>\n",
       "      <th>2</th>\n",
       "      <td>0.0</td>\n",
       "      <td>25.0</td>\n",
       "      <td>Livestock</td>\n",
       "      <td>Agriculture</td>\n",
       "      <td>Pretend the issue with loan got addressed by K...</td>\n",
       "      <td>KE</td>\n",
       "      <td>Kenya</td>\n",
       "      <td>Kisii</td>\n",
       "      <td>KES</td>\n",
       "      <td>13.0</td>\n",
       "      <td>0</td>\n",
       "      <td>female</td>\n",
       "      <td>monthly</td>\n",
       "      <td>3</td>\n",
       "    </tr>\n",
       "    <tr>\n",
       "      <th>3</th>\n",
       "      <td>0.0</td>\n",
       "      <td>25.0</td>\n",
       "      <td>Livestock</td>\n",
       "      <td>Agriculture</td>\n",
       "      <td>Reviewed loan use in english.</td>\n",
       "      <td>PK</td>\n",
       "      <td>Pakistan</td>\n",
       "      <td>Lahore</td>\n",
       "      <td>PKR</td>\n",
       "      <td>13.0</td>\n",
       "      <td>0</td>\n",
       "      <td>female</td>\n",
       "      <td>monthly</td>\n",
       "      <td>1</td>\n",
       "    </tr>\n",
       "    <tr>\n",
       "      <th>4</th>\n",
       "      <td>0.0</td>\n",
       "      <td>25.0</td>\n",
       "      <td>Livestock</td>\n",
       "      <td>Agriculture</td>\n",
       "      <td>[True, u'para compara: cemento, arenya y ladri...</td>\n",
       "      <td>PY</td>\n",
       "      <td>Paraguay</td>\n",
       "      <td>Concepción</td>\n",
       "      <td>USD</td>\n",
       "      <td>13.0</td>\n",
       "      <td>0</td>\n",
       "      <td>female</td>\n",
       "      <td>monthly</td>\n",
       "      <td>3</td>\n",
       "    </tr>\n",
       "    <tr>\n",
       "      <th>...</th>\n",
       "      <td>...</td>\n",
       "      <td>...</td>\n",
       "      <td>...</td>\n",
       "      <td>...</td>\n",
       "      <td>...</td>\n",
       "      <td>...</td>\n",
       "      <td>...</td>\n",
       "      <td>...</td>\n",
       "      <td>...</td>\n",
       "      <td>...</td>\n",
       "      <td>...</td>\n",
       "      <td>...</td>\n",
       "      <td>...</td>\n",
       "      <td>...</td>\n",
       "    </tr>\n",
       "    <tr>\n",
       "      <th>624992</th>\n",
       "      <td>50000.0</td>\n",
       "      <td>50000.0</td>\n",
       "      <td>Renewable Energy Products</td>\n",
       "      <td>Retail</td>\n",
       "      <td>to distribute solar home systems throughout ru...</td>\n",
       "      <td>ZW</td>\n",
       "      <td>Zimbabwe</td>\n",
       "      <td>Harare</td>\n",
       "      <td>USD</td>\n",
       "      <td>13.0</td>\n",
       "      <td>720</td>\n",
       "      <td>male</td>\n",
       "      <td>monthly</td>\n",
       "      <td>1</td>\n",
       "    </tr>\n",
       "    <tr>\n",
       "      <th>624993</th>\n",
       "      <td>50000.0</td>\n",
       "      <td>50000.0</td>\n",
       "      <td>Renewable Energy Products</td>\n",
       "      <td>Retail</td>\n",
       "      <td>to generate income to over 600 fishermen in Ta...</td>\n",
       "      <td>TZ</td>\n",
       "      <td>Tanzania</td>\n",
       "      <td>MUSOMA</td>\n",
       "      <td>USD</td>\n",
       "      <td>14.0</td>\n",
       "      <td>782</td>\n",
       "      <td>female</td>\n",
       "      <td>irregular</td>\n",
       "      <td>1</td>\n",
       "    </tr>\n",
       "    <tr>\n",
       "      <th>624994</th>\n",
       "      <td>50000.0</td>\n",
       "      <td>50000.0</td>\n",
       "      <td>Renewable Energy Products</td>\n",
       "      <td>Retail</td>\n",
       "      <td>to provide life-changing clean cookstoves and ...</td>\n",
       "      <td>KE</td>\n",
       "      <td>Kenya</td>\n",
       "      <td>Kisii</td>\n",
       "      <td>USD</td>\n",
       "      <td>14.0</td>\n",
       "      <td>1402</td>\n",
       "      <td>female</td>\n",
       "      <td>irregular</td>\n",
       "      <td>1</td>\n",
       "    </tr>\n",
       "    <tr>\n",
       "      <th>624995</th>\n",
       "      <td>50000.0</td>\n",
       "      <td>50000.0</td>\n",
       "      <td>Water Distribution</td>\n",
       "      <td>Services</td>\n",
       "      <td>to set up 13 new clean water businesses in nor...</td>\n",
       "      <td>GH</td>\n",
       "      <td>Ghana</td>\n",
       "      <td>Tamale</td>\n",
       "      <td>USD</td>\n",
       "      <td>14.0</td>\n",
       "      <td>1688</td>\n",
       "      <td>female</td>\n",
       "      <td>irregular</td>\n",
       "      <td>1</td>\n",
       "    </tr>\n",
       "    <tr>\n",
       "      <th>624996</th>\n",
       "      <td>100000.0</td>\n",
       "      <td>100000.0</td>\n",
       "      <td>Agriculture</td>\n",
       "      <td>Agriculture</td>\n",
       "      <td>create more than 300 jobs for women and farmer...</td>\n",
       "      <td>HT</td>\n",
       "      <td>Haiti</td>\n",
       "      <td>Fontamara(Centre-Ville)</td>\n",
       "      <td>USD</td>\n",
       "      <td>75.0</td>\n",
       "      <td>2986</td>\n",
       "      <td>female</td>\n",
       "      <td>irregular</td>\n",
       "      <td>1</td>\n",
       "    </tr>\n",
       "  </tbody>\n",
       "</table>\n",
       "<p>624997 rows × 14 columns</p>\n",
       "</div>"
      ],
      "text/plain": [
       "        funded_amount  loan_amount                   activity         sector  \\\n",
       "0                 0.0         25.0                      Games  Entertainment   \n",
       "1                 0.0         25.0                  Livestock    Agriculture   \n",
       "2                 0.0         25.0                  Livestock    Agriculture   \n",
       "3                 0.0         25.0                  Livestock    Agriculture   \n",
       "4                 0.0         25.0                  Livestock    Agriculture   \n",
       "...               ...          ...                        ...            ...   \n",
       "624992        50000.0      50000.0  Renewable Energy Products         Retail   \n",
       "624993        50000.0      50000.0  Renewable Energy Products         Retail   \n",
       "624994        50000.0      50000.0  Renewable Energy Products         Retail   \n",
       "624995        50000.0      50000.0         Water Distribution       Services   \n",
       "624996       100000.0     100000.0                Agriculture    Agriculture   \n",
       "\n",
       "                                                      use country_code  \\\n",
       "0       Kiva Coordinator replaced loan use. Should see...           KE   \n",
       "1       Kiva Coordinator fixed issue loan (no longer v...           KE   \n",
       "2       Pretend the issue with loan got addressed by K...           KE   \n",
       "3                           Reviewed loan use in english.           PK   \n",
       "4       [True, u'para compara: cemento, arenya y ladri...           PY   \n",
       "...                                                   ...          ...   \n",
       "624992  to distribute solar home systems throughout ru...           ZW   \n",
       "624993  to generate income to over 600 fishermen in Ta...           TZ   \n",
       "624994  to provide life-changing clean cookstoves and ...           KE   \n",
       "624995  to set up 13 new clean water businesses in nor...           GH   \n",
       "624996  create more than 300 jobs for women and farmer...           HT   \n",
       "\n",
       "         country                   region currency  term_in_months  \\\n",
       "0          Kenya                    Kisii      KES            13.0   \n",
       "1          Kenya                    Kisii      KES            13.0   \n",
       "2          Kenya                    Kisii      KES            13.0   \n",
       "3       Pakistan                   Lahore      PKR            13.0   \n",
       "4       Paraguay               Concepción      USD            13.0   \n",
       "...          ...                      ...      ...             ...   \n",
       "624992  Zimbabwe                   Harare      USD            13.0   \n",
       "624993  Tanzania                   MUSOMA      USD            14.0   \n",
       "624994     Kenya                    Kisii      USD            14.0   \n",
       "624995     Ghana                   Tamale      USD            14.0   \n",
       "624996     Haiti  Fontamara(Centre-Ville)      USD            75.0   \n",
       "\n",
       "        lender_count borrower_genders repayment_interval  requests_count  \n",
       "0                  0   female, female            monthly               1  \n",
       "1                  0   female, female            monthly               3  \n",
       "2                  0           female            monthly               3  \n",
       "3                  0           female            monthly               1  \n",
       "4                  0           female            monthly               3  \n",
       "...              ...              ...                ...             ...  \n",
       "624992           720             male            monthly               1  \n",
       "624993           782           female          irregular               1  \n",
       "624994          1402           female          irregular               1  \n",
       "624995          1688           female          irregular               1  \n",
       "624996          2986           female          irregular               1  \n",
       "\n",
       "[624997 rows x 14 columns]"
      ]
     },
     "execution_count": 35,
     "metadata": {},
     "output_type": "execute_result"
    }
   ],
   "source": [
    "df_uniq = df_orig.groupby(df_orig.columns.tolist (), as_index= False ).size()\n",
    "df_uniq.rename(columns={\"size\":\"requests_count\"}, inplace=True)\n",
    "df_uniq"
   ]
  },
  {
   "cell_type": "markdown",
   "id": "3ebdfc42",
   "metadata": {},
   "source": [
    "\n",
    "#### Überprüfung der Daten nach Geschlecht der Kreditnehmer.\n",
    "  - Einträge werden ausgewählt, in denen das Wort \"male\" nicht im Spalte \"borrower_genders\" enthalten ist, das heißt, alle Wörter sind \"male\" oder \"female\".\n"
   ]
  },
  {
   "cell_type": "code",
   "execution_count": 37,
   "id": "9b99e185",
   "metadata": {},
   "outputs": [
    {
     "data": {
      "text/html": [
       "<div>\n",
       "<style scoped>\n",
       "    .dataframe tbody tr th:only-of-type {\n",
       "        vertical-align: middle;\n",
       "    }\n",
       "\n",
       "    .dataframe tbody tr th {\n",
       "        vertical-align: top;\n",
       "    }\n",
       "\n",
       "    .dataframe thead th {\n",
       "        text-align: right;\n",
       "    }\n",
       "</style>\n",
       "<table border=\"1\" class=\"dataframe\">\n",
       "  <thead>\n",
       "    <tr style=\"text-align: right;\">\n",
       "      <th></th>\n",
       "      <th>funded_amount</th>\n",
       "      <th>loan_amount</th>\n",
       "      <th>activity</th>\n",
       "      <th>sector</th>\n",
       "      <th>use</th>\n",
       "      <th>country_code</th>\n",
       "      <th>country</th>\n",
       "      <th>region</th>\n",
       "      <th>currency</th>\n",
       "      <th>term_in_months</th>\n",
       "      <th>lender_count</th>\n",
       "      <th>borrower_genders</th>\n",
       "      <th>repayment_interval</th>\n",
       "      <th>requests_count</th>\n",
       "    </tr>\n",
       "  </thead>\n",
       "  <tbody>\n",
       "  </tbody>\n",
       "</table>\n",
       "</div>"
      ],
      "text/plain": [
       "Empty DataFrame\n",
       "Columns: [funded_amount, loan_amount, activity, sector, use, country_code, country, region, currency, term_in_months, lender_count, borrower_genders, repayment_interval, requests_count]\n",
       "Index: []"
      ]
     },
     "execution_count": 37,
     "metadata": {},
     "output_type": "execute_result"
    }
   ],
   "source": [
    "df_uniq.loc[~df_uniq.borrower_genders.str.contains(\"male\"),:]"
   ]
  },
  {
   "cell_type": "markdown",
   "id": "4400d6b0",
   "metadata": {},
   "source": [
    "\n",
    "#### Berechnung der Anzahl männlicher und weiblicher Kreditnehmer.\n",
    "  - Für jede Zeile werden die Spalten \"male_count\" und \"female_count\" hinzugefügt, die die Anzahl der Männer bzw. Frauen enthalten.\n",
    "  - Die Gesamtzahl der Antragsteller wird als Summe von \"male_count\" und \"female_count\" berechnet.\n"
   ]
  },
  {
   "cell_type": "code",
   "execution_count": 39,
   "id": "9a27d093",
   "metadata": {},
   "outputs": [
    {
     "data": {
      "text/html": [
       "<div>\n",
       "<style scoped>\n",
       "    .dataframe tbody tr th:only-of-type {\n",
       "        vertical-align: middle;\n",
       "    }\n",
       "\n",
       "    .dataframe tbody tr th {\n",
       "        vertical-align: top;\n",
       "    }\n",
       "\n",
       "    .dataframe thead th {\n",
       "        text-align: right;\n",
       "    }\n",
       "</style>\n",
       "<table border=\"1\" class=\"dataframe\">\n",
       "  <thead>\n",
       "    <tr style=\"text-align: right;\">\n",
       "      <th></th>\n",
       "      <th>funded_amount</th>\n",
       "      <th>loan_amount</th>\n",
       "      <th>activity</th>\n",
       "      <th>sector</th>\n",
       "      <th>use</th>\n",
       "      <th>country_code</th>\n",
       "      <th>country</th>\n",
       "      <th>region</th>\n",
       "      <th>currency</th>\n",
       "      <th>term_in_months</th>\n",
       "      <th>lender_count</th>\n",
       "      <th>borrower_genders</th>\n",
       "      <th>repayment_interval</th>\n",
       "      <th>requests_count</th>\n",
       "      <th>male_count</th>\n",
       "      <th>female_count</th>\n",
       "      <th>applicants_count</th>\n",
       "    </tr>\n",
       "  </thead>\n",
       "  <tbody>\n",
       "    <tr>\n",
       "      <th>0</th>\n",
       "      <td>0.0</td>\n",
       "      <td>25.0</td>\n",
       "      <td>Games</td>\n",
       "      <td>Entertainment</td>\n",
       "      <td>Kiva Coordinator replaced loan use. Should see...</td>\n",
       "      <td>KE</td>\n",
       "      <td>Kenya</td>\n",
       "      <td>Kisii</td>\n",
       "      <td>KES</td>\n",
       "      <td>13.0</td>\n",
       "      <td>0</td>\n",
       "      <td>female, female</td>\n",
       "      <td>monthly</td>\n",
       "      <td>1</td>\n",
       "      <td>0</td>\n",
       "      <td>2</td>\n",
       "      <td>2</td>\n",
       "    </tr>\n",
       "    <tr>\n",
       "      <th>1</th>\n",
       "      <td>0.0</td>\n",
       "      <td>25.0</td>\n",
       "      <td>Livestock</td>\n",
       "      <td>Agriculture</td>\n",
       "      <td>Kiva Coordinator fixed issue loan (no longer v...</td>\n",
       "      <td>KE</td>\n",
       "      <td>Kenya</td>\n",
       "      <td>Kisii</td>\n",
       "      <td>KES</td>\n",
       "      <td>13.0</td>\n",
       "      <td>0</td>\n",
       "      <td>female, female</td>\n",
       "      <td>monthly</td>\n",
       "      <td>3</td>\n",
       "      <td>0</td>\n",
       "      <td>2</td>\n",
       "      <td>2</td>\n",
       "    </tr>\n",
       "    <tr>\n",
       "      <th>2</th>\n",
       "      <td>0.0</td>\n",
       "      <td>25.0</td>\n",
       "      <td>Livestock</td>\n",
       "      <td>Agriculture</td>\n",
       "      <td>Pretend the issue with loan got addressed by K...</td>\n",
       "      <td>KE</td>\n",
       "      <td>Kenya</td>\n",
       "      <td>Kisii</td>\n",
       "      <td>KES</td>\n",
       "      <td>13.0</td>\n",
       "      <td>0</td>\n",
       "      <td>female</td>\n",
       "      <td>monthly</td>\n",
       "      <td>3</td>\n",
       "      <td>0</td>\n",
       "      <td>1</td>\n",
       "      <td>1</td>\n",
       "    </tr>\n",
       "    <tr>\n",
       "      <th>3</th>\n",
       "      <td>0.0</td>\n",
       "      <td>25.0</td>\n",
       "      <td>Livestock</td>\n",
       "      <td>Agriculture</td>\n",
       "      <td>Reviewed loan use in english.</td>\n",
       "      <td>PK</td>\n",
       "      <td>Pakistan</td>\n",
       "      <td>Lahore</td>\n",
       "      <td>PKR</td>\n",
       "      <td>13.0</td>\n",
       "      <td>0</td>\n",
       "      <td>female</td>\n",
       "      <td>monthly</td>\n",
       "      <td>1</td>\n",
       "      <td>0</td>\n",
       "      <td>1</td>\n",
       "      <td>1</td>\n",
       "    </tr>\n",
       "    <tr>\n",
       "      <th>4</th>\n",
       "      <td>0.0</td>\n",
       "      <td>25.0</td>\n",
       "      <td>Livestock</td>\n",
       "      <td>Agriculture</td>\n",
       "      <td>[True, u'para compara: cemento, arenya y ladri...</td>\n",
       "      <td>PY</td>\n",
       "      <td>Paraguay</td>\n",
       "      <td>Concepción</td>\n",
       "      <td>USD</td>\n",
       "      <td>13.0</td>\n",
       "      <td>0</td>\n",
       "      <td>female</td>\n",
       "      <td>monthly</td>\n",
       "      <td>3</td>\n",
       "      <td>0</td>\n",
       "      <td>1</td>\n",
       "      <td>1</td>\n",
       "    </tr>\n",
       "    <tr>\n",
       "      <th>...</th>\n",
       "      <td>...</td>\n",
       "      <td>...</td>\n",
       "      <td>...</td>\n",
       "      <td>...</td>\n",
       "      <td>...</td>\n",
       "      <td>...</td>\n",
       "      <td>...</td>\n",
       "      <td>...</td>\n",
       "      <td>...</td>\n",
       "      <td>...</td>\n",
       "      <td>...</td>\n",
       "      <td>...</td>\n",
       "      <td>...</td>\n",
       "      <td>...</td>\n",
       "      <td>...</td>\n",
       "      <td>...</td>\n",
       "      <td>...</td>\n",
       "    </tr>\n",
       "    <tr>\n",
       "      <th>624992</th>\n",
       "      <td>50000.0</td>\n",
       "      <td>50000.0</td>\n",
       "      <td>Renewable Energy Products</td>\n",
       "      <td>Retail</td>\n",
       "      <td>to distribute solar home systems throughout ru...</td>\n",
       "      <td>ZW</td>\n",
       "      <td>Zimbabwe</td>\n",
       "      <td>Harare</td>\n",
       "      <td>USD</td>\n",
       "      <td>13.0</td>\n",
       "      <td>720</td>\n",
       "      <td>male</td>\n",
       "      <td>monthly</td>\n",
       "      <td>1</td>\n",
       "      <td>1</td>\n",
       "      <td>0</td>\n",
       "      <td>1</td>\n",
       "    </tr>\n",
       "    <tr>\n",
       "      <th>624993</th>\n",
       "      <td>50000.0</td>\n",
       "      <td>50000.0</td>\n",
       "      <td>Renewable Energy Products</td>\n",
       "      <td>Retail</td>\n",
       "      <td>to generate income to over 600 fishermen in Ta...</td>\n",
       "      <td>TZ</td>\n",
       "      <td>Tanzania</td>\n",
       "      <td>MUSOMA</td>\n",
       "      <td>USD</td>\n",
       "      <td>14.0</td>\n",
       "      <td>782</td>\n",
       "      <td>female</td>\n",
       "      <td>irregular</td>\n",
       "      <td>1</td>\n",
       "      <td>0</td>\n",
       "      <td>1</td>\n",
       "      <td>1</td>\n",
       "    </tr>\n",
       "    <tr>\n",
       "      <th>624994</th>\n",
       "      <td>50000.0</td>\n",
       "      <td>50000.0</td>\n",
       "      <td>Renewable Energy Products</td>\n",
       "      <td>Retail</td>\n",
       "      <td>to provide life-changing clean cookstoves and ...</td>\n",
       "      <td>KE</td>\n",
       "      <td>Kenya</td>\n",
       "      <td>Kisii</td>\n",
       "      <td>USD</td>\n",
       "      <td>14.0</td>\n",
       "      <td>1402</td>\n",
       "      <td>female</td>\n",
       "      <td>irregular</td>\n",
       "      <td>1</td>\n",
       "      <td>0</td>\n",
       "      <td>1</td>\n",
       "      <td>1</td>\n",
       "    </tr>\n",
       "    <tr>\n",
       "      <th>624995</th>\n",
       "      <td>50000.0</td>\n",
       "      <td>50000.0</td>\n",
       "      <td>Water Distribution</td>\n",
       "      <td>Services</td>\n",
       "      <td>to set up 13 new clean water businesses in nor...</td>\n",
       "      <td>GH</td>\n",
       "      <td>Ghana</td>\n",
       "      <td>Tamale</td>\n",
       "      <td>USD</td>\n",
       "      <td>14.0</td>\n",
       "      <td>1688</td>\n",
       "      <td>female</td>\n",
       "      <td>irregular</td>\n",
       "      <td>1</td>\n",
       "      <td>0</td>\n",
       "      <td>1</td>\n",
       "      <td>1</td>\n",
       "    </tr>\n",
       "    <tr>\n",
       "      <th>624996</th>\n",
       "      <td>100000.0</td>\n",
       "      <td>100000.0</td>\n",
       "      <td>Agriculture</td>\n",
       "      <td>Agriculture</td>\n",
       "      <td>create more than 300 jobs for women and farmer...</td>\n",
       "      <td>HT</td>\n",
       "      <td>Haiti</td>\n",
       "      <td>Fontamara(Centre-Ville)</td>\n",
       "      <td>USD</td>\n",
       "      <td>75.0</td>\n",
       "      <td>2986</td>\n",
       "      <td>female</td>\n",
       "      <td>irregular</td>\n",
       "      <td>1</td>\n",
       "      <td>0</td>\n",
       "      <td>1</td>\n",
       "      <td>1</td>\n",
       "    </tr>\n",
       "  </tbody>\n",
       "</table>\n",
       "<p>624997 rows × 17 columns</p>\n",
       "</div>"
      ],
      "text/plain": [
       "        funded_amount  loan_amount                   activity         sector  \\\n",
       "0                 0.0         25.0                      Games  Entertainment   \n",
       "1                 0.0         25.0                  Livestock    Agriculture   \n",
       "2                 0.0         25.0                  Livestock    Agriculture   \n",
       "3                 0.0         25.0                  Livestock    Agriculture   \n",
       "4                 0.0         25.0                  Livestock    Agriculture   \n",
       "...               ...          ...                        ...            ...   \n",
       "624992        50000.0      50000.0  Renewable Energy Products         Retail   \n",
       "624993        50000.0      50000.0  Renewable Energy Products         Retail   \n",
       "624994        50000.0      50000.0  Renewable Energy Products         Retail   \n",
       "624995        50000.0      50000.0         Water Distribution       Services   \n",
       "624996       100000.0     100000.0                Agriculture    Agriculture   \n",
       "\n",
       "                                                      use country_code  \\\n",
       "0       Kiva Coordinator replaced loan use. Should see...           KE   \n",
       "1       Kiva Coordinator fixed issue loan (no longer v...           KE   \n",
       "2       Pretend the issue with loan got addressed by K...           KE   \n",
       "3                           Reviewed loan use in english.           PK   \n",
       "4       [True, u'para compara: cemento, arenya y ladri...           PY   \n",
       "...                                                   ...          ...   \n",
       "624992  to distribute solar home systems throughout ru...           ZW   \n",
       "624993  to generate income to over 600 fishermen in Ta...           TZ   \n",
       "624994  to provide life-changing clean cookstoves and ...           KE   \n",
       "624995  to set up 13 new clean water businesses in nor...           GH   \n",
       "624996  create more than 300 jobs for women and farmer...           HT   \n",
       "\n",
       "         country                   region currency  term_in_months  \\\n",
       "0          Kenya                    Kisii      KES            13.0   \n",
       "1          Kenya                    Kisii      KES            13.0   \n",
       "2          Kenya                    Kisii      KES            13.0   \n",
       "3       Pakistan                   Lahore      PKR            13.0   \n",
       "4       Paraguay               Concepción      USD            13.0   \n",
       "...          ...                      ...      ...             ...   \n",
       "624992  Zimbabwe                   Harare      USD            13.0   \n",
       "624993  Tanzania                   MUSOMA      USD            14.0   \n",
       "624994     Kenya                    Kisii      USD            14.0   \n",
       "624995     Ghana                   Tamale      USD            14.0   \n",
       "624996     Haiti  Fontamara(Centre-Ville)      USD            75.0   \n",
       "\n",
       "        lender_count borrower_genders repayment_interval  requests_count  \\\n",
       "0                  0   female, female            monthly               1   \n",
       "1                  0   female, female            monthly               3   \n",
       "2                  0           female            monthly               3   \n",
       "3                  0           female            monthly               1   \n",
       "4                  0           female            monthly               3   \n",
       "...              ...              ...                ...             ...   \n",
       "624992           720             male            monthly               1   \n",
       "624993           782           female          irregular               1   \n",
       "624994          1402           female          irregular               1   \n",
       "624995          1688           female          irregular               1   \n",
       "624996          2986           female          irregular               1   \n",
       "\n",
       "        male_count  female_count  applicants_count  \n",
       "0                0             2                 2  \n",
       "1                0             2                 2  \n",
       "2                0             1                 1  \n",
       "3                0             1                 1  \n",
       "4                0             1                 1  \n",
       "...            ...           ...               ...  \n",
       "624992           1             0                 1  \n",
       "624993           0             1                 1  \n",
       "624994           0             1                 1  \n",
       "624995           0             1                 1  \n",
       "624996           0             1                 1  \n",
       "\n",
       "[624997 rows x 17 columns]"
      ]
     },
     "execution_count": 39,
     "metadata": {},
     "output_type": "execute_result"
    }
   ],
   "source": [
    "df_uniq[['male_count','female_count']]=df_uniq.apply(lambda x: pd.Series([\n",
    "                                                        x['borrower_genders'].replace(\" \",\"\").split(\",\").count(\"male\"),\n",
    "                                                        x['borrower_genders'].replace(\" \",\"\").split(\",\").count(\"female\")\n",
    "                                                      ]),\n",
    "              axis=1)\n",
    "df_uniq[\"applicants_count\"] = df_uniq.male_count + df_uniq.female_count\n",
    "df_uniq"
   ]
  },
  {
   "cell_type": "markdown",
   "id": "d6adf94e",
   "metadata": {},
   "source": [
    "\n",
    "#### Entfernen der Spalte \"borrower_genders\".\n",
    "  - Die Spalte \"borrower_genders\" wird aus dem DataFrame entfernt.\n",
    "  - Die ersten drei Zeilen des aktualisierten DataFrames werden zur Voransicht angezeigt.\n"
   ]
  },
  {
   "cell_type": "code",
   "execution_count": 41,
   "id": "0d29e490",
   "metadata": {},
   "outputs": [
    {
     "data": {
      "text/html": [
       "<div>\n",
       "<style scoped>\n",
       "    .dataframe tbody tr th:only-of-type {\n",
       "        vertical-align: middle;\n",
       "    }\n",
       "\n",
       "    .dataframe tbody tr th {\n",
       "        vertical-align: top;\n",
       "    }\n",
       "\n",
       "    .dataframe thead th {\n",
       "        text-align: right;\n",
       "    }\n",
       "</style>\n",
       "<table border=\"1\" class=\"dataframe\">\n",
       "  <thead>\n",
       "    <tr style=\"text-align: right;\">\n",
       "      <th></th>\n",
       "      <th>funded_amount</th>\n",
       "      <th>loan_amount</th>\n",
       "      <th>activity</th>\n",
       "      <th>sector</th>\n",
       "      <th>use</th>\n",
       "      <th>country_code</th>\n",
       "      <th>country</th>\n",
       "      <th>region</th>\n",
       "      <th>currency</th>\n",
       "      <th>term_in_months</th>\n",
       "      <th>lender_count</th>\n",
       "      <th>repayment_interval</th>\n",
       "      <th>requests_count</th>\n",
       "      <th>male_count</th>\n",
       "      <th>female_count</th>\n",
       "      <th>applicants_count</th>\n",
       "    </tr>\n",
       "  </thead>\n",
       "  <tbody>\n",
       "    <tr>\n",
       "      <th>0</th>\n",
       "      <td>0.0</td>\n",
       "      <td>25.0</td>\n",
       "      <td>Games</td>\n",
       "      <td>Entertainment</td>\n",
       "      <td>Kiva Coordinator replaced loan use. Should see...</td>\n",
       "      <td>KE</td>\n",
       "      <td>Kenya</td>\n",
       "      <td>Kisii</td>\n",
       "      <td>KES</td>\n",
       "      <td>13.0</td>\n",
       "      <td>0</td>\n",
       "      <td>monthly</td>\n",
       "      <td>1</td>\n",
       "      <td>0</td>\n",
       "      <td>2</td>\n",
       "      <td>2</td>\n",
       "    </tr>\n",
       "    <tr>\n",
       "      <th>1</th>\n",
       "      <td>0.0</td>\n",
       "      <td>25.0</td>\n",
       "      <td>Livestock</td>\n",
       "      <td>Agriculture</td>\n",
       "      <td>Kiva Coordinator fixed issue loan (no longer v...</td>\n",
       "      <td>KE</td>\n",
       "      <td>Kenya</td>\n",
       "      <td>Kisii</td>\n",
       "      <td>KES</td>\n",
       "      <td>13.0</td>\n",
       "      <td>0</td>\n",
       "      <td>monthly</td>\n",
       "      <td>3</td>\n",
       "      <td>0</td>\n",
       "      <td>2</td>\n",
       "      <td>2</td>\n",
       "    </tr>\n",
       "    <tr>\n",
       "      <th>2</th>\n",
       "      <td>0.0</td>\n",
       "      <td>25.0</td>\n",
       "      <td>Livestock</td>\n",
       "      <td>Agriculture</td>\n",
       "      <td>Pretend the issue with loan got addressed by K...</td>\n",
       "      <td>KE</td>\n",
       "      <td>Kenya</td>\n",
       "      <td>Kisii</td>\n",
       "      <td>KES</td>\n",
       "      <td>13.0</td>\n",
       "      <td>0</td>\n",
       "      <td>monthly</td>\n",
       "      <td>3</td>\n",
       "      <td>0</td>\n",
       "      <td>1</td>\n",
       "      <td>1</td>\n",
       "    </tr>\n",
       "  </tbody>\n",
       "</table>\n",
       "</div>"
      ],
      "text/plain": [
       "   funded_amount  loan_amount   activity         sector  \\\n",
       "0            0.0         25.0      Games  Entertainment   \n",
       "1            0.0         25.0  Livestock    Agriculture   \n",
       "2            0.0         25.0  Livestock    Agriculture   \n",
       "\n",
       "                                                 use country_code country  \\\n",
       "0  Kiva Coordinator replaced loan use. Should see...           KE   Kenya   \n",
       "1  Kiva Coordinator fixed issue loan (no longer v...           KE   Kenya   \n",
       "2  Pretend the issue with loan got addressed by K...           KE   Kenya   \n",
       "\n",
       "  region currency  term_in_months  lender_count repayment_interval  \\\n",
       "0  Kisii      KES            13.0             0            monthly   \n",
       "1  Kisii      KES            13.0             0            monthly   \n",
       "2  Kisii      KES            13.0             0            monthly   \n",
       "\n",
       "   requests_count  male_count  female_count  applicants_count  \n",
       "0               1           0             2                 2  \n",
       "1               3           0             2                 2  \n",
       "2               3           0             1                 1  "
      ]
     },
     "execution_count": 41,
     "metadata": {},
     "output_type": "execute_result"
    }
   ],
   "source": [
    "df_uniq.drop(columns=\"borrower_genders\", inplace=True)\n",
    "df_uniq.head(3)"
   ]
  },
  {
   "cell_type": "markdown",
   "id": "a42c2998",
   "metadata": {},
   "source": [
    "\n",
    "#### Abrufen von Informationen über den DataFrame.**\n",
    "  - Informationen über den DataFrame werden angezeigt, einschließlich der Datentypen der Spalten und der Anzahl der Nicht-Null-Werte.\n"
   ]
  },
  {
   "cell_type": "code",
   "execution_count": 43,
   "id": "58dce3e3",
   "metadata": {},
   "outputs": [
    {
     "name": "stdout",
     "output_type": "stream",
     "text": [
      "<class 'pandas.core.frame.DataFrame'>\n",
      "RangeIndex: 624997 entries, 0 to 624996\n",
      "Data columns (total 16 columns):\n",
      " #   Column              Non-Null Count   Dtype  \n",
      "---  ------              --------------   -----  \n",
      " 0   funded_amount       624997 non-null  float64\n",
      " 1   loan_amount         624997 non-null  float64\n",
      " 2   activity            624997 non-null  object \n",
      " 3   sector              624997 non-null  object \n",
      " 4   use                 624997 non-null  object \n",
      " 5   country_code        624997 non-null  object \n",
      " 6   country             624997 non-null  object \n",
      " 7   region              624997 non-null  object \n",
      " 8   currency            624997 non-null  object \n",
      " 9   term_in_months      624997 non-null  float64\n",
      " 10  lender_count        624997 non-null  int64  \n",
      " 11  repayment_interval  624997 non-null  object \n",
      " 12  requests_count      624997 non-null  int64  \n",
      " 13  male_count          624997 non-null  int64  \n",
      " 14  female_count        624997 non-null  int64  \n",
      " 15  applicants_count    624997 non-null  int64  \n",
      "dtypes: float64(3), int64(5), object(8)\n",
      "memory usage: 76.3+ MB\n"
     ]
    }
   ],
   "source": [
    "df_uniq.info()"
   ]
  },
  {
   "cell_type": "markdown",
   "id": "c06f4fc5",
   "metadata": {},
   "source": [
    "\n",
    "#### Speichern der verarbeiteten Daten.**\n",
    "  - Der verarbeitete DataFrame wird in einer Pickle-Datei unter dem Namen \"df_kiva_uniq.pkl\" für die weitere Verwendung gespeichert."
   ]
  },
  {
   "cell_type": "code",
   "execution_count": 45,
   "id": "fe5d9ab0",
   "metadata": {},
   "outputs": [],
   "source": [
    "df_uniq.to_pickle(\"df_kiva_uniq.pkl\")"
   ]
  },
  {
   "cell_type": "markdown",
   "id": "37cdfa04",
   "metadata": {},
   "source": [
    "#### Definition von Funktionen zur Berechnung von Ausreißergrenzen.\n",
    "  - `outs`: Eine Funktion zur Berechnung der äußeren Grenzen von Ausreißern basierend auf Quartilen.\n",
    "  - `outs_ser`: Eine Funktion für eindimensionale Daten (`Series`), die Quartile verwendet, um die Grenzen von Ausreißern zu bestimmen.\n",
    "  - `outs_df`: Eine Funktion für DataFrames (`DataFrame`), die `outs` auf jede numerische Spalte anwendet und ein Wörterbuch mit den Ausreißergrenzen zurückgibt.\n"
   ]
  },
  {
   "cell_type": "code",
   "execution_count": 47,
   "id": "c9ebfff3",
   "metadata": {},
   "outputs": [],
   "source": [
    "def outs(q25 = 0, q75 = 1):\n",
    "    delta = q75 - q25\n",
    "    return q25 - delta*1.5, q75 + delta*1.5  \n",
    "\n",
    "def outs_ser(df = None): # für Series\n",
    "    if df is None:\n",
    "        return\n",
    "    return outs(df.quantile(.25), df.quantile(.75))\n",
    "\n",
    "def outs_df(df = None): #für DataFrame\n",
    "    if df is None:\n",
    "        return   \n",
    "    out = {}\n",
    "    dsc = df.describe()\n",
    "    for ds in dsc.columns:\n",
    "        out[ds]=outs(dsc[ds][\"25%\"],dsc[ds][\"75%\"])\n",
    "    return out"
   ]
  },
  {
   "cell_type": "markdown",
   "id": "31c4ed1c",
   "metadata": {},
   "source": [
    "\n",
    "#### Berechnung der Ausreißergrenzen für `df_uniq`.\n",
    "  - Anwendung von `outs_df` auf den DataFrame `df_uniq`, um die Ausreißergrenzen für jede numerische Spalte zu erhalten.\n"
   ]
  },
  {
   "cell_type": "code",
   "execution_count": 49,
   "id": "5fb983e0",
   "metadata": {},
   "outputs": [
    {
     "data": {
      "text/plain": [
       "{'funded_amount': (-737.5, 1962.5),\n",
       " 'loan_amount': (-750.0, 2050.0),\n",
       " 'term_in_months': (-1.0, 23.0),\n",
       " 'lender_count': (-21.5, 54.5),\n",
       " 'requests_count': (1.0, 1.0),\n",
       " 'male_count': (-1.5, 2.5),\n",
       " 'female_count': (1.0, 1.0),\n",
       " 'applicants_count': (1.0, 1.0)}"
      ]
     },
     "execution_count": 49,
     "metadata": {},
     "output_type": "execute_result"
    }
   ],
   "source": [
    "dc_outs = outs_df(df_uniq)\n",
    "dc_outs"
   ]
  },
  {
   "cell_type": "markdown",
   "id": "03653a87",
   "metadata": {},
   "source": [
    "\n",
    "#### Installation der Bibliothek `kaleido` für den Export von Grafiken.\n",
    "  - Wird verwendet, um die Bibliothek `kaleido` zu installieren, die notwendig ist, um Plotly-Grafiken als Bilder zu speichern.\n"
   ]
  },
  {
   "cell_type": "code",
   "execution_count": 52,
   "id": "bc5e403a",
   "metadata": {},
   "outputs": [
    {
     "name": "stdout",
     "output_type": "stream",
     "text": [
      "Requirement already satisfied: kaleido in c:\\users\\stdie\\anaconda3\\lib\\site-packages (0.2.1)\n"
     ]
    }
   ],
   "source": [
    " !pip install -U kaleido"
   ]
  },
  {
   "cell_type": "markdown",
   "id": "b8bc48c3",
   "metadata": {},
   "source": [
    "\n",
    "#### Erstellung und Speicherung eines Boxplots für `df_uniq`.\n",
    "  - Visualisierung von Ausreißern mit einem Boxplot für numerische Spalten in `df_uniq`, unter Verwendung der in `dc_outs` definierten Grenzen.\n",
    "  - Der Grafik wird als Datei `boxplot1.png` gespeichert.\n"
   ]
  },
  {
   "cell_type": "code",
   "execution_count": null,
   "id": "f3c053d2",
   "metadata": {},
   "outputs": [],
   "source": [
    "boxplot1 = px.box(data_frame=df_uniq,\n",
    "                  y=list(dc_outs.keys()), \n",
    "                  template=\"plotly_white\",\n",
    "                  title=\"Überprüfung der Datenausreißer\"\n",
    "                 )\n",
    "boxplot1.update_layout(title_x=0.5)\n",
    "\n",
    "boxplot1.write_image(\"boxplot1.png\")"
   ]
  },
  {
   "attachments": {
    "boxplot1.png": {
     "image/png": "[encoded data removed]"
    }
   },
   "cell_type": "markdown",
   "id": "8d4e7f11",
   "metadata": {},
   "source": [
    "![boxplot1.png](attachment:boxplot1.png)"
   ]
  },
  {
   "cell_type": "markdown",
   "id": "bcfe511c",
   "metadata": {},
   "source": [
    "\n",
    "#### Filterung von Werten über 50,000 in `loan_amount`.\n",
    "  - Suche nach Einträgen in `df_uniq`, bei denen der Kreditbetrag (`loan_amount`) 50,000 überschreitet.\n"
   ]
  },
  {
   "cell_type": "code",
   "execution_count": 53,
   "id": "d6ab9324",
   "metadata": {},
   "outputs": [
    {
     "data": {
      "text/html": [
       "<div>\n",
       "<style scoped>\n",
       "    .dataframe tbody tr th:only-of-type {\n",
       "        vertical-align: middle;\n",
       "    }\n",
       "\n",
       "    .dataframe tbody tr th {\n",
       "        vertical-align: top;\n",
       "    }\n",
       "\n",
       "    .dataframe thead th {\n",
       "        text-align: right;\n",
       "    }\n",
       "</style>\n",
       "<table border=\"1\" class=\"dataframe\">\n",
       "  <thead>\n",
       "    <tr style=\"text-align: right;\">\n",
       "      <th></th>\n",
       "      <th>funded_amount</th>\n",
       "      <th>loan_amount</th>\n",
       "      <th>activity</th>\n",
       "      <th>sector</th>\n",
       "      <th>use</th>\n",
       "      <th>country_code</th>\n",
       "      <th>country</th>\n",
       "      <th>region</th>\n",
       "      <th>currency</th>\n",
       "      <th>term_in_months</th>\n",
       "      <th>lender_count</th>\n",
       "      <th>repayment_interval</th>\n",
       "      <th>requests_count</th>\n",
       "      <th>male_count</th>\n",
       "      <th>female_count</th>\n",
       "      <th>applicants_count</th>\n",
       "    </tr>\n",
       "  </thead>\n",
       "  <tbody>\n",
       "    <tr>\n",
       "      <th>624996</th>\n",
       "      <td>100000.0</td>\n",
       "      <td>100000.0</td>\n",
       "      <td>Agriculture</td>\n",
       "      <td>Agriculture</td>\n",
       "      <td>create more than 300 jobs for women and farmer...</td>\n",
       "      <td>HT</td>\n",
       "      <td>Haiti</td>\n",
       "      <td>Fontamara(Centre-Ville)</td>\n",
       "      <td>USD</td>\n",
       "      <td>75.0</td>\n",
       "      <td>2986</td>\n",
       "      <td>irregular</td>\n",
       "      <td>1</td>\n",
       "      <td>0</td>\n",
       "      <td>1</td>\n",
       "      <td>1</td>\n",
       "    </tr>\n",
       "  </tbody>\n",
       "</table>\n",
       "</div>"
      ],
      "text/plain": [
       "        funded_amount  loan_amount     activity       sector  \\\n",
       "624996       100000.0     100000.0  Agriculture  Agriculture   \n",
       "\n",
       "                                                      use country_code  \\\n",
       "624996  create more than 300 jobs for women and farmer...           HT   \n",
       "\n",
       "       country                   region currency  term_in_months  \\\n",
       "624996   Haiti  Fontamara(Centre-Ville)      USD            75.0   \n",
       "\n",
       "        lender_count repayment_interval  requests_count  male_count  \\\n",
       "624996          2986          irregular               1           0   \n",
       "\n",
       "        female_count  applicants_count  \n",
       "624996             1                 1  "
      ]
     },
     "execution_count": 53,
     "metadata": {},
     "output_type": "execute_result"
    }
   ],
   "source": [
    "df_uniq.loc[(df_uniq.loan_amount > 50000),:]"
   ]
  },
  {
   "cell_type": "markdown",
   "id": "839f42a4",
   "metadata": {},
   "source": [
    "\n",
    "#### Erstellung eines bereinigten DataFrames `df_clean`.**\n",
    "  - Filterung von `df_uniq`, um Werte von `loan_amount` über 50,000 auszuschließen und Analyse der deskriptiven Statistik des resultierenden DataFrames.\n"
   ]
  },
  {
   "cell_type": "code",
   "execution_count": 55,
   "id": "c92c2660",
   "metadata": {},
   "outputs": [
    {
     "data": {
      "text/html": [
       "<div>\n",
       "<style scoped>\n",
       "    .dataframe tbody tr th:only-of-type {\n",
       "        vertical-align: middle;\n",
       "    }\n",
       "\n",
       "    .dataframe tbody tr th {\n",
       "        vertical-align: top;\n",
       "    }\n",
       "\n",
       "    .dataframe thead th {\n",
       "        text-align: right;\n",
       "    }\n",
       "</style>\n",
       "<table border=\"1\" class=\"dataframe\">\n",
       "  <thead>\n",
       "    <tr style=\"text-align: right;\">\n",
       "      <th></th>\n",
       "      <th>funded_amount</th>\n",
       "      <th>loan_amount</th>\n",
       "      <th>term_in_months</th>\n",
       "      <th>lender_count</th>\n",
       "      <th>requests_count</th>\n",
       "      <th>male_count</th>\n",
       "      <th>female_count</th>\n",
       "      <th>applicants_count</th>\n",
       "    </tr>\n",
       "  </thead>\n",
       "  <tbody>\n",
       "    <tr>\n",
       "      <th>count</th>\n",
       "      <td>624996.000000</td>\n",
       "      <td>624996.000000</td>\n",
       "      <td>624996.000000</td>\n",
       "      <td>624996.000000</td>\n",
       "      <td>624996.000000</td>\n",
       "      <td>624996.000000</td>\n",
       "      <td>624996.000000</td>\n",
       "      <td>624996.000000</td>\n",
       "    </tr>\n",
       "    <tr>\n",
       "      <th>mean</th>\n",
       "      <td>822.007341</td>\n",
       "      <td>880.710277</td>\n",
       "      <td>13.786111</td>\n",
       "      <td>21.452372</td>\n",
       "      <td>1.067162</td>\n",
       "      <td>0.426809</td>\n",
       "      <td>1.632242</td>\n",
       "      <td>2.059052</td>\n",
       "    </tr>\n",
       "    <tr>\n",
       "      <th>std</th>\n",
       "      <td>1148.296220</td>\n",
       "      <td>1209.196989</td>\n",
       "      <td>8.510758</td>\n",
       "      <td>28.797347</td>\n",
       "      <td>0.894458</td>\n",
       "      <td>1.149333</td>\n",
       "      <td>3.128062</td>\n",
       "      <td>3.512892</td>\n",
       "    </tr>\n",
       "    <tr>\n",
       "      <th>min</th>\n",
       "      <td>0.000000</td>\n",
       "      <td>25.000000</td>\n",
       "      <td>1.000000</td>\n",
       "      <td>0.000000</td>\n",
       "      <td>1.000000</td>\n",
       "      <td>0.000000</td>\n",
       "      <td>0.000000</td>\n",
       "      <td>1.000000</td>\n",
       "    </tr>\n",
       "    <tr>\n",
       "      <th>25%</th>\n",
       "      <td>275.000000</td>\n",
       "      <td>300.000000</td>\n",
       "      <td>8.000000</td>\n",
       "      <td>7.000000</td>\n",
       "      <td>1.000000</td>\n",
       "      <td>0.000000</td>\n",
       "      <td>1.000000</td>\n",
       "      <td>1.000000</td>\n",
       "    </tr>\n",
       "    <tr>\n",
       "      <th>50%</th>\n",
       "      <td>500.000000</td>\n",
       "      <td>500.000000</td>\n",
       "      <td>13.000000</td>\n",
       "      <td>14.000000</td>\n",
       "      <td>1.000000</td>\n",
       "      <td>0.000000</td>\n",
       "      <td>1.000000</td>\n",
       "      <td>1.000000</td>\n",
       "    </tr>\n",
       "    <tr>\n",
       "      <th>75%</th>\n",
       "      <td>950.000000</td>\n",
       "      <td>1000.000000</td>\n",
       "      <td>14.000000</td>\n",
       "      <td>26.000000</td>\n",
       "      <td>1.000000</td>\n",
       "      <td>1.000000</td>\n",
       "      <td>1.000000</td>\n",
       "      <td>1.000000</td>\n",
       "    </tr>\n",
       "    <tr>\n",
       "      <th>max</th>\n",
       "      <td>50000.000000</td>\n",
       "      <td>50000.000000</td>\n",
       "      <td>158.000000</td>\n",
       "      <td>1765.000000</td>\n",
       "      <td>153.000000</td>\n",
       "      <td>44.000000</td>\n",
       "      <td>50.000000</td>\n",
       "      <td>50.000000</td>\n",
       "    </tr>\n",
       "  </tbody>\n",
       "</table>\n",
       "</div>"
      ],
      "text/plain": [
       "       funded_amount    loan_amount  term_in_months   lender_count  \\\n",
       "count  624996.000000  624996.000000   624996.000000  624996.000000   \n",
       "mean      822.007341     880.710277       13.786111      21.452372   \n",
       "std      1148.296220    1209.196989        8.510758      28.797347   \n",
       "min         0.000000      25.000000        1.000000       0.000000   \n",
       "25%       275.000000     300.000000        8.000000       7.000000   \n",
       "50%       500.000000     500.000000       13.000000      14.000000   \n",
       "75%       950.000000    1000.000000       14.000000      26.000000   \n",
       "max     50000.000000   50000.000000      158.000000    1765.000000   \n",
       "\n",
       "       requests_count     male_count   female_count  applicants_count  \n",
       "count   624996.000000  624996.000000  624996.000000     624996.000000  \n",
       "mean         1.067162       0.426809       1.632242          2.059052  \n",
       "std          0.894458       1.149333       3.128062          3.512892  \n",
       "min          1.000000       0.000000       0.000000          1.000000  \n",
       "25%          1.000000       0.000000       1.000000          1.000000  \n",
       "50%          1.000000       0.000000       1.000000          1.000000  \n",
       "75%          1.000000       1.000000       1.000000          1.000000  \n",
       "max        153.000000      44.000000      50.000000         50.000000  "
      ]
     },
     "execution_count": 55,
     "metadata": {},
     "output_type": "execute_result"
    }
   ],
   "source": [
    "df_clean = df_uniq.loc[df_uniq.loan_amount <= 50000,:]\n",
    "df_clean.describe()"
   ]
  },
  {
   "cell_type": "markdown",
   "id": "9c3e7351",
   "metadata": {},
   "source": [
    "\n",
    "#### Berechnung und Entfernung von Spalten.\n",
    "  - Im `df_clean` wird eine neue Spalte `funded_rating`, gleich dem Verhältnis von `funded_amount` zu `loan_amount`, hinzugefügt.\n",
    "  - Die Spalte `funded_amount` wird entfernt.\n"
   ]
  },
  {
   "cell_type": "code",
   "execution_count": 57,
   "id": "60ab9343",
   "metadata": {},
   "outputs": [
    {
     "data": {
      "text/html": [
       "<div>\n",
       "<style scoped>\n",
       "    .dataframe tbody tr th:only-of-type {\n",
       "        vertical-align: middle;\n",
       "    }\n",
       "\n",
       "    .dataframe tbody tr th {\n",
       "        vertical-align: top;\n",
       "    }\n",
       "\n",
       "    .dataframe thead th {\n",
       "        text-align: right;\n",
       "    }\n",
       "</style>\n",
       "<table border=\"1\" class=\"dataframe\">\n",
       "  <thead>\n",
       "    <tr style=\"text-align: right;\">\n",
       "      <th></th>\n",
       "      <th>loan_amount</th>\n",
       "      <th>activity</th>\n",
       "      <th>sector</th>\n",
       "      <th>use</th>\n",
       "      <th>country_code</th>\n",
       "      <th>country</th>\n",
       "      <th>region</th>\n",
       "      <th>currency</th>\n",
       "      <th>term_in_months</th>\n",
       "      <th>lender_count</th>\n",
       "      <th>repayment_interval</th>\n",
       "      <th>requests_count</th>\n",
       "      <th>male_count</th>\n",
       "      <th>female_count</th>\n",
       "      <th>applicants_count</th>\n",
       "      <th>funded_rating</th>\n",
       "    </tr>\n",
       "  </thead>\n",
       "  <tbody>\n",
       "    <tr>\n",
       "      <th>0</th>\n",
       "      <td>25.0</td>\n",
       "      <td>Games</td>\n",
       "      <td>Entertainment</td>\n",
       "      <td>Kiva Coordinator replaced loan use. Should see...</td>\n",
       "      <td>KE</td>\n",
       "      <td>Kenya</td>\n",
       "      <td>Kisii</td>\n",
       "      <td>KES</td>\n",
       "      <td>13.0</td>\n",
       "      <td>0</td>\n",
       "      <td>monthly</td>\n",
       "      <td>1</td>\n",
       "      <td>0</td>\n",
       "      <td>2</td>\n",
       "      <td>2</td>\n",
       "      <td>0.0</td>\n",
       "    </tr>\n",
       "    <tr>\n",
       "      <th>1</th>\n",
       "      <td>25.0</td>\n",
       "      <td>Livestock</td>\n",
       "      <td>Agriculture</td>\n",
       "      <td>Kiva Coordinator fixed issue loan (no longer v...</td>\n",
       "      <td>KE</td>\n",
       "      <td>Kenya</td>\n",
       "      <td>Kisii</td>\n",
       "      <td>KES</td>\n",
       "      <td>13.0</td>\n",
       "      <td>0</td>\n",
       "      <td>monthly</td>\n",
       "      <td>3</td>\n",
       "      <td>0</td>\n",
       "      <td>2</td>\n",
       "      <td>2</td>\n",
       "      <td>0.0</td>\n",
       "    </tr>\n",
       "    <tr>\n",
       "      <th>2</th>\n",
       "      <td>25.0</td>\n",
       "      <td>Livestock</td>\n",
       "      <td>Agriculture</td>\n",
       "      <td>Pretend the issue with loan got addressed by K...</td>\n",
       "      <td>KE</td>\n",
       "      <td>Kenya</td>\n",
       "      <td>Kisii</td>\n",
       "      <td>KES</td>\n",
       "      <td>13.0</td>\n",
       "      <td>0</td>\n",
       "      <td>monthly</td>\n",
       "      <td>3</td>\n",
       "      <td>0</td>\n",
       "      <td>1</td>\n",
       "      <td>1</td>\n",
       "      <td>0.0</td>\n",
       "    </tr>\n",
       "  </tbody>\n",
       "</table>\n",
       "</div>"
      ],
      "text/plain": [
       "   loan_amount   activity         sector  \\\n",
       "0         25.0      Games  Entertainment   \n",
       "1         25.0  Livestock    Agriculture   \n",
       "2         25.0  Livestock    Agriculture   \n",
       "\n",
       "                                                 use country_code country  \\\n",
       "0  Kiva Coordinator replaced loan use. Should see...           KE   Kenya   \n",
       "1  Kiva Coordinator fixed issue loan (no longer v...           KE   Kenya   \n",
       "2  Pretend the issue with loan got addressed by K...           KE   Kenya   \n",
       "\n",
       "  region currency  term_in_months  lender_count repayment_interval  \\\n",
       "0  Kisii      KES            13.0             0            monthly   \n",
       "1  Kisii      KES            13.0             0            monthly   \n",
       "2  Kisii      KES            13.0             0            monthly   \n",
       "\n",
       "   requests_count  male_count  female_count  applicants_count  funded_rating  \n",
       "0               1           0             2                 2            0.0  \n",
       "1               3           0             2                 2            0.0  \n",
       "2               3           0             1                 1            0.0  "
      ]
     },
     "execution_count": 57,
     "metadata": {},
     "output_type": "execute_result"
    }
   ],
   "source": [
    "df_clean[\"funded_rating\"] = df_clean.funded_amount / df_clean.loan_amount\n",
    "df_clean.drop(columns=\"funded_amount\", inplace=True)\n",
    "df_clean.head(3)"
   ]
  },
  {
   "cell_type": "markdown",
   "id": "dcf5f547",
   "metadata": {},
   "source": [
    "\n",
    "#### Visualisierung von `funded_rating` mit einem Boxplot.**\n",
    "  - Erstellung und Anzeige eines Boxplots zur Bewertung von Ausreißern in `funded_rating`.\n"
   ]
  },
  {
   "cell_type": "code",
   "execution_count": null,
   "id": "03881f61",
   "metadata": {},
   "outputs": [],
   "source": [
    "boxplot2 = px.box(data_frame=df_clean,\n",
    "                  y=\"funded_rating\", \n",
    "                  template=\"plotly_white\",\n",
    "                  title=\"Überprüfung der Datenausreißer funded_rating\"\n",
    "                 )\n",
    "boxplot2.update_layout(title_x=0.5)\n",
    "\n",
    "boxplot2.write_image(\"boxplot2.png\")"
   ]
  },
  {
   "attachments": {
    "boxplot2.png": {
     "image/png": "[encoded data removed]"
    }
   },
   "cell_type": "markdown",
   "id": "c1f1fee0",
   "metadata": {},
   "source": [
    "![boxplot2.png](attachment:boxplot2.png)\n",
    "\n",
    "\n",
    "#### Korrektur von Werten in `funded_rating` über 1.**\n",
    "  - Werte von `funded_rating` über 1 werden auf 1 korrigiert.\n"
   ]
  },
  {
   "cell_type": "code",
   "execution_count": 59,
   "id": "e376fb03",
   "metadata": {},
   "outputs": [],
   "source": [
    "df_clean.loc[df_clean.funded_rating > 1,\"funded_rating\"]=1"
   ]
  },
  {
   "cell_type": "markdown",
   "id": "dc9767ac",
   "metadata": {},
   "source": [
    "\n",
    "#### Erstellung und Speicherung eines Boxplots für `loan_amount` in `df_clean`.\n",
    "  - Visualisierung von Ausreißern für `loan_amount` mit einem Boxplot und Speicherung der Grafik als `boxplot3.png`.\n"
   ]
  },
  {
   "cell_type": "code",
   "execution_count": null,
   "id": "0458d922",
   "metadata": {},
   "outputs": [],
   "source": [
    "boxplot3 = px.box(data_frame=df_clean,\n",
    "                  y=\"loan_amount\", \n",
    "                  template=\"plotly_white\",\n",
    "                  title=\"Überprüfung der Datenausreißer loan_amount\"\n",
    "                 )\n",
    "boxplot3.update_layout(title_x=0.5)\n",
    "\n",
    "boxplot3.write_image(\"boxplot3.png\")"
   ]
  },
  {
   "attachments": {
    "boxplot3.png": {
     "image/png": "[encoded data removed]"
    }
   },
   "cell_type": "markdown",
   "id": "df12438e",
   "metadata": {},
   "source": [
    "![boxplot3.png](attachment:boxplot3.png)"
   ]
  },
  {
   "cell_type": "code",
   "execution_count": 61,
   "id": "785758a4",
   "metadata": {},
   "outputs": [
    {
     "data": {
      "text/html": [
       "<div>\n",
       "<style scoped>\n",
       "    .dataframe tbody tr th:only-of-type {\n",
       "        vertical-align: middle;\n",
       "    }\n",
       "\n",
       "    .dataframe tbody tr th {\n",
       "        vertical-align: top;\n",
       "    }\n",
       "\n",
       "    .dataframe thead th {\n",
       "        text-align: right;\n",
       "    }\n",
       "</style>\n",
       "<table border=\"1\" class=\"dataframe\">\n",
       "  <thead>\n",
       "    <tr style=\"text-align: right;\">\n",
       "      <th></th>\n",
       "      <th>funded_amount</th>\n",
       "      <th>loan_amount</th>\n",
       "      <th>activity</th>\n",
       "      <th>sector</th>\n",
       "      <th>use</th>\n",
       "      <th>country_code</th>\n",
       "      <th>country</th>\n",
       "      <th>region</th>\n",
       "      <th>currency</th>\n",
       "      <th>term_in_months</th>\n",
       "      <th>lender_count</th>\n",
       "      <th>repayment_interval</th>\n",
       "      <th>requests_count</th>\n",
       "      <th>male_count</th>\n",
       "      <th>female_count</th>\n",
       "      <th>applicants_count</th>\n",
       "    </tr>\n",
       "  </thead>\n",
       "  <tbody>\n",
       "    <tr>\n",
       "      <th>0</th>\n",
       "      <td>0.0</td>\n",
       "      <td>25.0</td>\n",
       "      <td>Games</td>\n",
       "      <td>Entertainment</td>\n",
       "      <td>Kiva Coordinator replaced loan use. Should see...</td>\n",
       "      <td>KE</td>\n",
       "      <td>Kenya</td>\n",
       "      <td>Kisii</td>\n",
       "      <td>KES</td>\n",
       "      <td>13.0</td>\n",
       "      <td>0</td>\n",
       "      <td>monthly</td>\n",
       "      <td>1</td>\n",
       "      <td>0</td>\n",
       "      <td>2</td>\n",
       "      <td>2</td>\n",
       "    </tr>\n",
       "    <tr>\n",
       "      <th>1</th>\n",
       "      <td>0.0</td>\n",
       "      <td>25.0</td>\n",
       "      <td>Livestock</td>\n",
       "      <td>Agriculture</td>\n",
       "      <td>Kiva Coordinator fixed issue loan (no longer v...</td>\n",
       "      <td>KE</td>\n",
       "      <td>Kenya</td>\n",
       "      <td>Kisii</td>\n",
       "      <td>KES</td>\n",
       "      <td>13.0</td>\n",
       "      <td>0</td>\n",
       "      <td>monthly</td>\n",
       "      <td>3</td>\n",
       "      <td>0</td>\n",
       "      <td>2</td>\n",
       "      <td>2</td>\n",
       "    </tr>\n",
       "    <tr>\n",
       "      <th>2</th>\n",
       "      <td>0.0</td>\n",
       "      <td>25.0</td>\n",
       "      <td>Livestock</td>\n",
       "      <td>Agriculture</td>\n",
       "      <td>Pretend the issue with loan got addressed by K...</td>\n",
       "      <td>KE</td>\n",
       "      <td>Kenya</td>\n",
       "      <td>Kisii</td>\n",
       "      <td>KES</td>\n",
       "      <td>13.0</td>\n",
       "      <td>0</td>\n",
       "      <td>monthly</td>\n",
       "      <td>3</td>\n",
       "      <td>0</td>\n",
       "      <td>1</td>\n",
       "      <td>1</td>\n",
       "    </tr>\n",
       "  </tbody>\n",
       "</table>\n",
       "</div>"
      ],
      "text/plain": [
       "   funded_amount  loan_amount   activity         sector  \\\n",
       "0            0.0         25.0      Games  Entertainment   \n",
       "1            0.0         25.0  Livestock    Agriculture   \n",
       "2            0.0         25.0  Livestock    Agriculture   \n",
       "\n",
       "                                                 use country_code country  \\\n",
       "0  Kiva Coordinator replaced loan use. Should see...           KE   Kenya   \n",
       "1  Kiva Coordinator fixed issue loan (no longer v...           KE   Kenya   \n",
       "2  Pretend the issue with loan got addressed by K...           KE   Kenya   \n",
       "\n",
       "  region currency  term_in_months  lender_count repayment_interval  \\\n",
       "0  Kisii      KES            13.0             0            monthly   \n",
       "1  Kisii      KES            13.0             0            monthly   \n",
       "2  Kisii      KES            13.0             0            monthly   \n",
       "\n",
       "   requests_count  male_count  female_count  applicants_count  \n",
       "0               1           0             2                 2  \n",
       "1               3           0             2                 2  \n",
       "2               3           0             1                 1  "
      ]
     },
     "execution_count": 61,
     "metadata": {},
     "output_type": "execute_result"
    }
   ],
   "source": [
    "df_test=pd.read_pickle(\"df_kiva_uniq.pkl\")\n",
    "df_test.head(3)"
   ]
  },
  {
   "cell_type": "markdown",
   "id": "a0c52b30",
   "metadata": {},
   "source": [
    "\n",
    "#### Analyse von `loan_amount` in `df_clean`.\n",
    "  - Anzeige der deskriptiven Statistik und Berechnung der Ausreißergrenzen für `loan_amount`.\n"
   ]
  },
  {
   "cell_type": "code",
   "execution_count": 63,
   "id": "1147c29d",
   "metadata": {},
   "outputs": [
    {
     "data": {
      "text/plain": [
       "(count    624996.000000\n",
       " mean        880.710277\n",
       " std        1209.196989\n",
       " min          25.000000\n",
       " 25%         300.000000\n",
       " 50%         500.000000\n",
       " 75%        1000.000000\n",
       " max       50000.000000\n",
       " Name: loan_amount, dtype: float64,\n",
       " (-750.0, 2050.0))"
      ]
     },
     "execution_count": 63,
     "metadata": {},
     "output_type": "execute_result"
    }
   ],
   "source": [
    "ds_loan=df_clean.loan_amount\n",
    "ds_loan.describe(), outs_ser(ds_loan)"
   ]
  },
  {
   "cell_type": "code",
   "execution_count": 65,
   "id": "1c75700c",
   "metadata": {},
   "outputs": [
    {
     "name": "stdout",
     "output_type": "stream",
     "text": [
      "(-587.5, 1712.5)\n",
      "(-512.5, 1587.5)\n",
      "(-475.0, 1525.0)\n"
     ]
    },
    {
     "data": {
      "text/plain": [
       "(-475.0, 1525.0)"
      ]
     },
     "execution_count": 65,
     "metadata": {},
     "output_type": "execute_result"
    }
   ],
   "source": [
    "#print(outs_ser(df_test.loan_amount))\n",
    "print(outs_ser(df_test.loan_amount[df_test.loan_amount < 2050.0]))\n",
    "print(outs_ser(df_test.loan_amount[df_test.loan_amount < 1712.0]))\n",
    "print(outs_ser(df_test.loan_amount[df_test.loan_amount < 1587.5]))\n",
    "outs_ser(df_test.loan_amount[df_test.loan_amount < 1525.0])"
   ]
  },
  {
   "cell_type": "markdown",
   "id": "600c8dbd",
   "metadata": {},
   "source": [
    "\n",
    "#### Definition von Funktionen zur Arbeit mit Ausreißern.\n",
    "  - `outlers_get_borders`: Eine Funktion zur rekursiven Bestimmung der Ausreißergrenzen.\n",
    "  - `outlers_to_cats`: Eine Funktion zur Kategorisierung von Krediten basierend auf Ausreißergrenzen.\n",
    "  - `outlers_info`: Eine Funktion zur Anzeige von Informationen über Ausreißer nach Kategorien.\n"
   ]
  },
  {
   "cell_type": "code",
   "execution_count": 113,
   "id": "0ecdd8ac",
   "metadata": {},
   "outputs": [],
   "source": [
    "def outlers_get_borders(ds=None, l_outs=None, iteration = 0):\n",
    "    \n",
    "    max_iterations = 50  # overflow protection\n",
    "    if iteration >= max_iterations:\n",
    "        return\n",
    "        \n",
    "    if ds is None:\n",
    "        ds = pd.Series\n",
    "        return\n",
    "    \n",
    "    ds_outs = outs_ser(ds)\n",
    "    if l_outs is None:\n",
    "        l_outs=[]\n",
    "        b1 = ds_outs[0]\n",
    "    else:\n",
    "        b1=l_outs[-1]\n",
    "        \n",
    "    b2 = ds_outs[1]\n",
    "    while outs_ser(ds[(ds>b1) & (ds <= b2)])[1] != b2:\n",
    "        b2 = outs_ser(ds[(ds>b1) & (ds <= b2)])[1]\n",
    "        \n",
    "    \n",
    "    if b2<ds.max():\n",
    "        l_outs.append(b2)\n",
    "        outlers_get_borders(ds[(ds>b2) & (ds <= ds.max())], l_outs, iteration+1)\n",
    "        \n",
    "    return sorted(l_outs,reverse=True)\n",
    "\n",
    "def outlers_to_cats(df=None, col_name_cats=\"loan_category\", col_name_nums=\"loan_amount\"):\n",
    "    if df is None:\n",
    "        df=pd.DataFrame\n",
    "        return\n",
    "    cat_borders=outlers_get_borders(df[col_name_nums])\n",
    "    if len(cat_borders)>3:\n",
    "        cat_borders = cat_borders[-3:]\n",
    "        print(cat_borders)\n",
    "    cat_names=[\"elevated\", \"middling\", \"modest\"]\n",
    "    df[col_name_cats] = \"high\"\n",
    "    for i,v in enumerate(cat_borders):\n",
    "        \n",
    "        df.loc[df[col_name_nums] <= v, col_name_cats] = cat_names[i]\n",
    "\n",
    "def outlers_info(df=None, col_name_cats=\"loan_category\"):\n",
    "    if df is None:\n",
    "        df=pd.DataFrame\n",
    "        return\n",
    "    len_df=len(df)\n",
    "    dc_outs = outs_df(df)\n",
    "    for col in dc_outs.keys():\n",
    "        in_sum=0\n",
    "        for cat in df[col_name_cats].unique():\n",
    "            ds_temp = df.loc[(df[col_name_cats]==cat),col]\n",
    "            dc_outs_temp = outs_ser(ds_temp)\n",
    "            outs_count = ds_temp[ds_temp > dc_outs_temp[1]].count()\n",
    "            in_sum+=outs_count\n",
    "            print(f\"{col}[{cat}]: {dc_outs_temp} Datenausreißer: {outs_count}\")\n",
    "        print(f\"Allgemein nach Spalte '{col}': {in_sum} = {in_sum/len_df:.2%} \\n\")"
   ]
  },
  {
   "cell_type": "markdown",
   "id": "e2817c8b",
   "metadata": {},
   "source": [
    "\n",
    "#### Ermittlung der Ausreißergrenzen für `loan_amount`.\n",
    "  - Verwendung von `outlers_get_borders` zur Bestimmung der Ausreißergrenzen in `loan_amount`.\n"
   ]
  },
  {
   "cell_type": "code",
   "execution_count": 69,
   "id": "f56c84e7",
   "metadata": {},
   "outputs": [
    {
     "data": {
      "text/plain": [
       "[14800.0, 5825.0, 1525.0]"
      ]
     },
     "execution_count": 69,
     "metadata": {},
     "output_type": "execute_result"
    }
   ],
   "source": [
    "outlers_get_borders(df_clean.loan_amount)"
   ]
  },
  {
   "cell_type": "markdown",
   "id": "f109501b",
   "metadata": {},
   "source": [
    "\n",
    "#### Kategorisierung von Krediten und Analyse von Ausreißern.\n",
    "  - Anwendung von `outlers_to_cats` auf `df_clean`, um Kredite basierend auf ihren Beträgen zu kategorisieren.\n",
    "  - Verwendung von `outlers_info` zur Analyse von Ausreißern in Bezug auf Kreditkategorien."
   ]
  },
  {
   "cell_type": "code",
   "execution_count": 71,
   "id": "4f132342",
   "metadata": {},
   "outputs": [],
   "source": [
    "#1525, 5825, 14800\n",
    "outlers_to_cats(df_clean)"
   ]
  },
  {
   "cell_type": "markdown",
   "id": "fa74f57b",
   "metadata": {},
   "source": [
    "#### Visualisierung von Ausreißern nach Kreditkategorien.\n",
    "  - Erstellung und Anzeige eines Boxplots für `loan_amount` nach Kreditkategorien (`loan_category`) zur Analyse von Ausreißern in jeder Kategorie.\n"
   ]
  },
  {
   "cell_type": "code",
   "execution_count": null,
   "id": "31549850",
   "metadata": {},
   "outputs": [],
   "source": [
    "boxplot4 = px.box(data_frame=df_clean,\n",
    "                  x=\"loan_category\",\n",
    "                  y=\"loan_amount\", \n",
    "                  template=\"plotly_white\",\n",
    "                  title=\"Überprüfung der Datenausreißer loan_amount durch loan_category\"\n",
    "                 )\n",
    "boxplot4.update_layout(title_x=0.5)\n",
    "\n",
    "boxplot4.write_image(\"boxplot4.png\")"
   ]
  },
  {
   "cell_type": "markdown",
   "id": "dec3afe0",
   "metadata": {},
   "source": []
  },
  {
   "attachments": {
    "boxplot4.png": {
     "image/png": "[encoded data removed]"
    }
   },
   "cell_type": "markdown",
   "id": "a6239ac7",
   "metadata": {},
   "source": [
    "![boxplot4.png](attachment:boxplot4.png)\n",
    "\n",
    "\n",
    "\n",
    "#### Überprüfung der Spalten in `df_clean`.\n",
    "  - Anzeige einer Liste der Spalten im bereinigten DataFrame `df_clean`.\n"
   ]
  },
  {
   "cell_type": "code",
   "execution_count": 73,
   "id": "4d444792",
   "metadata": {},
   "outputs": [
    {
     "data": {
      "text/plain": [
       "Index(['loan_amount', 'activity', 'sector', 'use', 'country_code', 'country',\n",
       "       'region', 'currency', 'term_in_months', 'lender_count',\n",
       "       'repayment_interval', 'requests_count', 'male_count', 'female_count',\n",
       "       'applicants_count', 'funded_rating', 'loan_category'],\n",
       "      dtype='object')"
      ]
     },
     "execution_count": 73,
     "metadata": {},
     "output_type": "execute_result"
    }
   ],
   "source": [
    "df_clean.columns"
   ]
  },
  {
   "cell_type": "markdown",
   "id": "a971e633",
   "metadata": {},
   "source": [
    "\n",
    "#### Hinzufügen von Spalten mit Geschlechterverhältnissen und Entfernen der ursprünglichen Spalten.\n",
    "  - In `df_clean` werden die Spalten `ratio_men` und `ratio_women` hinzugefügt, die das Verhältnis von Männern bzw. Frauen unter den Antragstellern darstellen.\n",
    "  - Die Spalten `male_count` und `female_count` werden entfernt.\n"
   ]
  },
  {
   "cell_type": "code",
   "execution_count": 75,
   "id": "7c2c3ec7",
   "metadata": {},
   "outputs": [
    {
     "data": {
      "text/html": [
       "<div>\n",
       "<style scoped>\n",
       "    .dataframe tbody tr th:only-of-type {\n",
       "        vertical-align: middle;\n",
       "    }\n",
       "\n",
       "    .dataframe tbody tr th {\n",
       "        vertical-align: top;\n",
       "    }\n",
       "\n",
       "    .dataframe thead th {\n",
       "        text-align: right;\n",
       "    }\n",
       "</style>\n",
       "<table border=\"1\" class=\"dataframe\">\n",
       "  <thead>\n",
       "    <tr style=\"text-align: right;\">\n",
       "      <th></th>\n",
       "      <th>loan_amount</th>\n",
       "      <th>activity</th>\n",
       "      <th>sector</th>\n",
       "      <th>use</th>\n",
       "      <th>country_code</th>\n",
       "      <th>country</th>\n",
       "      <th>region</th>\n",
       "      <th>currency</th>\n",
       "      <th>term_in_months</th>\n",
       "      <th>lender_count</th>\n",
       "      <th>repayment_interval</th>\n",
       "      <th>requests_count</th>\n",
       "      <th>applicants_count</th>\n",
       "      <th>funded_rating</th>\n",
       "      <th>loan_category</th>\n",
       "      <th>ratio_men</th>\n",
       "      <th>ratio_women</th>\n",
       "    </tr>\n",
       "  </thead>\n",
       "  <tbody>\n",
       "    <tr>\n",
       "      <th>0</th>\n",
       "      <td>25.0</td>\n",
       "      <td>Games</td>\n",
       "      <td>Entertainment</td>\n",
       "      <td>Kiva Coordinator replaced loan use. Should see...</td>\n",
       "      <td>KE</td>\n",
       "      <td>Kenya</td>\n",
       "      <td>Kisii</td>\n",
       "      <td>KES</td>\n",
       "      <td>13.0</td>\n",
       "      <td>0</td>\n",
       "      <td>monthly</td>\n",
       "      <td>1</td>\n",
       "      <td>2</td>\n",
       "      <td>0.0</td>\n",
       "      <td>modest</td>\n",
       "      <td>0.0</td>\n",
       "      <td>1.0</td>\n",
       "    </tr>\n",
       "    <tr>\n",
       "      <th>1</th>\n",
       "      <td>25.0</td>\n",
       "      <td>Livestock</td>\n",
       "      <td>Agriculture</td>\n",
       "      <td>Kiva Coordinator fixed issue loan (no longer v...</td>\n",
       "      <td>KE</td>\n",
       "      <td>Kenya</td>\n",
       "      <td>Kisii</td>\n",
       "      <td>KES</td>\n",
       "      <td>13.0</td>\n",
       "      <td>0</td>\n",
       "      <td>monthly</td>\n",
       "      <td>3</td>\n",
       "      <td>2</td>\n",
       "      <td>0.0</td>\n",
       "      <td>modest</td>\n",
       "      <td>0.0</td>\n",
       "      <td>1.0</td>\n",
       "    </tr>\n",
       "    <tr>\n",
       "      <th>2</th>\n",
       "      <td>25.0</td>\n",
       "      <td>Livestock</td>\n",
       "      <td>Agriculture</td>\n",
       "      <td>Pretend the issue with loan got addressed by K...</td>\n",
       "      <td>KE</td>\n",
       "      <td>Kenya</td>\n",
       "      <td>Kisii</td>\n",
       "      <td>KES</td>\n",
       "      <td>13.0</td>\n",
       "      <td>0</td>\n",
       "      <td>monthly</td>\n",
       "      <td>3</td>\n",
       "      <td>1</td>\n",
       "      <td>0.0</td>\n",
       "      <td>modest</td>\n",
       "      <td>0.0</td>\n",
       "      <td>1.0</td>\n",
       "    </tr>\n",
       "  </tbody>\n",
       "</table>\n",
       "</div>"
      ],
      "text/plain": [
       "   loan_amount   activity         sector  \\\n",
       "0         25.0      Games  Entertainment   \n",
       "1         25.0  Livestock    Agriculture   \n",
       "2         25.0  Livestock    Agriculture   \n",
       "\n",
       "                                                 use country_code country  \\\n",
       "0  Kiva Coordinator replaced loan use. Should see...           KE   Kenya   \n",
       "1  Kiva Coordinator fixed issue loan (no longer v...           KE   Kenya   \n",
       "2  Pretend the issue with loan got addressed by K...           KE   Kenya   \n",
       "\n",
       "  region currency  term_in_months  lender_count repayment_interval  \\\n",
       "0  Kisii      KES            13.0             0            monthly   \n",
       "1  Kisii      KES            13.0             0            monthly   \n",
       "2  Kisii      KES            13.0             0            monthly   \n",
       "\n",
       "   requests_count  applicants_count  funded_rating loan_category  ratio_men  \\\n",
       "0               1                 2            0.0        modest        0.0   \n",
       "1               3                 2            0.0        modest        0.0   \n",
       "2               3                 1            0.0        modest        0.0   \n",
       "\n",
       "   ratio_women  \n",
       "0          1.0  \n",
       "1          1.0  \n",
       "2          1.0  "
      ]
     },
     "execution_count": 75,
     "metadata": {},
     "output_type": "execute_result"
    }
   ],
   "source": [
    "df_clean = df_clean.assign(ratio_men = df_clean.male_count/df_clean.applicants_count,\n",
    "                           ratio_women = df_clean.female_count/df_clean.applicants_count)\n",
    "df_clean.drop(columns=['male_count', 'female_count'], inplace=True)\n",
    "df_clean.head(3)"
   ]
  },
  {
   "cell_type": "markdown",
   "id": "d3a2124e",
   "metadata": {},
   "source": [
    "\n",
    "#### Arbeit mit zusätzlichen Spalten.**\n",
    "  - In # In[41] wird die Spalte `applicant_equity` hinzugefügt, die den Anteil des Kredits pro Antragsteller zeigt.\n",
    "  - In # In[42] wird die Spalte `ratio_men` entfernt, da sie redundant ist (`ratio_men = 1 - ratio_women`).\n"
   ]
  },
  {
   "cell_type": "code",
   "execution_count": 77,
   "id": "b116f0a6",
   "metadata": {},
   "outputs": [],
   "source": [
    "df_clean.drop(columns=\"ratio_men\", inplace=True) #ratio_men=1-ratio_women"
   ]
  },
  {
   "cell_type": "code",
   "execution_count": 79,
   "id": "25a4bb49",
   "metadata": {},
   "outputs": [],
   "source": [
    "df_clean[\"applicant_equity\"] = (df_clean.loan_amount/df_clean.applicants_count)/df_clean.loan_amount"
   ]
  },
  {
   "cell_type": "markdown",
   "id": "79354215",
   "metadata": {},
   "source": [
    "\n",
    "#### Entfernung ungenutzter Spalten.**\n",
    "  - Die Spalten `applicants_count`, `term_in_months` und `requests_count` werden nacheinander entfernt, um die Datenstruktur zu vereinfachen.\n"
   ]
  },
  {
   "cell_type": "code",
   "execution_count": 81,
   "id": "27846385",
   "metadata": {},
   "outputs": [],
   "source": [
    "df_clean.drop(columns=\"applicants_count\", inplace=True)"
   ]
  },
  {
   "cell_type": "code",
   "execution_count": 83,
   "id": "6d4e9bdd",
   "metadata": {},
   "outputs": [
    {
     "data": {
      "text/plain": [
       "Series([], Name: term_in_months, dtype: float64)"
      ]
     },
     "execution_count": 83,
     "metadata": {},
     "output_type": "execute_result"
    }
   ],
   "source": [
    "df_clean.term_in_months[df_clean.term_in_months==0]"
   ]
  },
  {
   "cell_type": "markdown",
   "id": "c8a91dfd",
   "metadata": {},
   "source": [
    "\n",
    "#### Berechnung des monatlichen Rückzahlungsanteils vom Kredit.**\n",
    "  - Die Spalte `monthly_refund_percentage` wird hinzugefügt, die den Anteil der monatlichen Rückzahlung an der Gesamtkreditsumme darstellt.\n"
   ]
  },
  {
   "cell_type": "code",
   "execution_count": 85,
   "id": "79752649",
   "metadata": {},
   "outputs": [],
   "source": [
    "df_clean[\"monthly_refund_percentage\"] = (df_clean.loan_amount/df_clean.term_in_months)/df_clean.loan_amount"
   ]
  },
  {
   "cell_type": "code",
   "execution_count": 87,
   "id": "6b4faf62",
   "metadata": {},
   "outputs": [],
   "source": [
    "df_clean.drop(columns=\"term_in_months\", inplace=True)"
   ]
  },
  {
   "cell_type": "code",
   "execution_count": 89,
   "id": "beaea4dd",
   "metadata": {},
   "outputs": [],
   "source": [
    "df_clean.drop(columns=\"requests_count\", inplace=True)"
   ]
  },
  {
   "cell_type": "markdown",
   "id": "21172236",
   "metadata": {},
   "source": [
    "\n",
    "#### Berechnung und Anzeige der Korrelationsmatrix.\n",
    "  - Es wird eine Korrelationsmatrix `df_corr` für `df_clean` erstellt, auf drei Dezimalstellen gerundet.\n",
    "  - Dies hilft, mögliche Zusammenhänge zwischen den Variablen zu identifizieren.\n"
   ]
  },
  {
   "cell_type": "code",
   "execution_count": 91,
   "id": "df61d527",
   "metadata": {},
   "outputs": [
    {
     "data": {
      "text/html": [
       "<div>\n",
       "<style scoped>\n",
       "    .dataframe tbody tr th:only-of-type {\n",
       "        vertical-align: middle;\n",
       "    }\n",
       "\n",
       "    .dataframe tbody tr th {\n",
       "        vertical-align: top;\n",
       "    }\n",
       "\n",
       "    .dataframe thead th {\n",
       "        text-align: right;\n",
       "    }\n",
       "</style>\n",
       "<table border=\"1\" class=\"dataframe\">\n",
       "  <thead>\n",
       "    <tr style=\"text-align: right;\">\n",
       "      <th></th>\n",
       "      <th>loan_amount</th>\n",
       "      <th>lender_count</th>\n",
       "      <th>funded_rating</th>\n",
       "      <th>ratio_women</th>\n",
       "      <th>applicant_equity</th>\n",
       "      <th>monthly_refund_percentage</th>\n",
       "    </tr>\n",
       "  </thead>\n",
       "  <tbody>\n",
       "    <tr>\n",
       "      <th>loan_amount</th>\n",
       "      <td>1.000</td>\n",
       "      <td>0.798</td>\n",
       "      <td>-0.115</td>\n",
       "      <td>-0.067</td>\n",
       "      <td>-0.407</td>\n",
       "      <td>-0.073</td>\n",
       "    </tr>\n",
       "    <tr>\n",
       "      <th>lender_count</th>\n",
       "      <td>0.798</td>\n",
       "      <td>1.000</td>\n",
       "      <td>0.092</td>\n",
       "      <td>-0.062</td>\n",
       "      <td>-0.293</td>\n",
       "      <td>-0.150</td>\n",
       "    </tr>\n",
       "    <tr>\n",
       "      <th>funded_rating</th>\n",
       "      <td>-0.115</td>\n",
       "      <td>0.092</td>\n",
       "      <td>1.000</td>\n",
       "      <td>0.148</td>\n",
       "      <td>-0.016</td>\n",
       "      <td>0.164</td>\n",
       "    </tr>\n",
       "    <tr>\n",
       "      <th>ratio_women</th>\n",
       "      <td>-0.067</td>\n",
       "      <td>-0.062</td>\n",
       "      <td>0.148</td>\n",
       "      <td>1.000</td>\n",
       "      <td>-0.051</td>\n",
       "      <td>0.164</td>\n",
       "    </tr>\n",
       "    <tr>\n",
       "      <th>applicant_equity</th>\n",
       "      <td>-0.407</td>\n",
       "      <td>-0.293</td>\n",
       "      <td>-0.016</td>\n",
       "      <td>-0.051</td>\n",
       "      <td>1.000</td>\n",
       "      <td>-0.190</td>\n",
       "    </tr>\n",
       "    <tr>\n",
       "      <th>monthly_refund_percentage</th>\n",
       "      <td>-0.073</td>\n",
       "      <td>-0.150</td>\n",
       "      <td>0.164</td>\n",
       "      <td>0.164</td>\n",
       "      <td>-0.190</td>\n",
       "      <td>1.000</td>\n",
       "    </tr>\n",
       "  </tbody>\n",
       "</table>\n",
       "</div>"
      ],
      "text/plain": [
       "                           loan_amount  lender_count  funded_rating  \\\n",
       "loan_amount                      1.000         0.798         -0.115   \n",
       "lender_count                     0.798         1.000          0.092   \n",
       "funded_rating                   -0.115         0.092          1.000   \n",
       "ratio_women                     -0.067        -0.062          0.148   \n",
       "applicant_equity                -0.407        -0.293         -0.016   \n",
       "monthly_refund_percentage       -0.073        -0.150          0.164   \n",
       "\n",
       "                           ratio_women  applicant_equity  \\\n",
       "loan_amount                     -0.067            -0.407   \n",
       "lender_count                    -0.062            -0.293   \n",
       "funded_rating                    0.148            -0.016   \n",
       "ratio_women                      1.000            -0.051   \n",
       "applicant_equity                -0.051             1.000   \n",
       "monthly_refund_percentage        0.164            -0.190   \n",
       "\n",
       "                           monthly_refund_percentage  \n",
       "loan_amount                                   -0.073  \n",
       "lender_count                                  -0.150  \n",
       "funded_rating                                  0.164  \n",
       "ratio_women                                    0.164  \n",
       "applicant_equity                              -0.190  \n",
       "monthly_refund_percentage                      1.000  "
      ]
     },
     "execution_count": 91,
     "metadata": {},
     "output_type": "execute_result"
    }
   ],
   "source": [
    "df_corr = df_clean.corr(numeric_only=True).round(3)\n",
    "df_corr"
   ]
  },
  {
   "cell_type": "markdown",
   "id": "094884dc",
   "metadata": {},
   "source": [
    "\n",
    "#### Visualisierung der Korrelationsmatrix.\n",
    "  - Plotly Express (`px.imshow`) wird verwendet, um die Korrelationsmatrix `df_corr` zu visualisieren.\n",
    "  - Der Graph zeigt den Grad der Korrelation zwischen den Variablen unter Verwendung einer Farbskala.\n"
   ]
  },
  {
   "cell_type": "code",
   "execution_count": 93,
   "id": "774f411f",
   "metadata": {},
   "outputs": [
    {
     "data": {
      "application/vnd.plotly.v1+json": {
       "config": {
        "plotlyServerURL": "https://plot.ly"
       },
       "data": [
        {
         "coloraxis": "coloraxis",
         "hovertemplate": "x: %{x}<br>y: %{y}<br>color: %{z}<extra></extra>",
         "name": "0",
         "texttemplate": "%{z}",
         "type": "heatmap",
         "x": [
          "loan_amount",
          "lender_count",
          "funded_rating",
          "ratio_women",
          "applicant_equity",
          "monthly_refund_percentage"
         ],
         "xaxis": "x",
         "y": [
          "loan_amount",
          "lender_count",
          "funded_rating",
          "ratio_women",
          "applicant_equity",
          "monthly_refund_percentage"
         ],
         "yaxis": "y",
         "z": [
          [
           1,
           0.798,
           -0.115,
           -0.067,
           -0.407,
           -0.073
          ],
          [
           0.798,
           1,
           0.092,
           -0.062,
           -0.293,
           -0.15
          ],
          [
           -0.115,
           0.092,
           1,
           0.148,
           -0.016,
           0.164
          ],
          [
           -0.067,
           -0.062,
           0.148,
           1,
           -0.051,
           0.164
          ],
          [
           -0.407,
           -0.293,
           -0.016,
           -0.051,
           1,
           -0.19
          ],
          [
           -0.073,
           -0.15,
           0.164,
           0.164,
           -0.19,
           1
          ]
         ]
        }
       ],
       "layout": {
        "autosize": true,
        "coloraxis": {
         "cmax": 1,
         "cmin": -1,
         "colorscale": [
          [
           0,
           "crimson"
          ],
          [
           0.25,
           "yellow"
          ],
          [
           0.5,
           "lime"
          ],
          [
           0.75,
           "yellow"
          ],
          [
           1,
           "crimson"
          ]
         ]
        },
        "margin": {
         "t": 60
        },
        "template": {
         "data": {
          "bar": [
           {
            "error_x": {
             "color": "#2a3f5f"
            },
            "error_y": {
             "color": "#2a3f5f"
            },
            "marker": {
             "line": {
              "color": "#E5ECF6",
              "width": 0.5
             },
             "pattern": {
              "fillmode": "overlay",
              "size": 10,
              "solidity": 0.2
             }
            },
            "type": "bar"
           }
          ],
          "barpolar": [
           {
            "marker": {
             "line": {
              "color": "#E5ECF6",
              "width": 0.5
             },
             "pattern": {
              "fillmode": "overlay",
              "size": 10,
              "solidity": 0.2
             }
            },
            "type": "barpolar"
           }
          ],
          "carpet": [
           {
            "aaxis": {
             "endlinecolor": "#2a3f5f",
             "gridcolor": "white",
             "linecolor": "white",
             "minorgridcolor": "white",
             "startlinecolor": "#2a3f5f"
            },
            "baxis": {
             "endlinecolor": "#2a3f5f",
             "gridcolor": "white",
             "linecolor": "white",
             "minorgridcolor": "white",
             "startlinecolor": "#2a3f5f"
            },
            "type": "carpet"
           }
          ],
          "choropleth": [
           {
            "colorbar": {
             "outlinewidth": 0,
             "ticks": ""
            },
            "type": "choropleth"
           }
          ],
          "contour": [
           {
            "colorbar": {
             "outlinewidth": 0,
             "ticks": ""
            },
            "colorscale": [
             [
              0,
              "#0d0887"
             ],
             [
              0.1111111111111111,
              "#46039f"
             ],
             [
              0.2222222222222222,
              "#7201a8"
             ],
             [
              0.3333333333333333,
              "#9c179e"
             ],
             [
              0.4444444444444444,
              "#bd3786"
             ],
             [
              0.5555555555555556,
              "#d8576b"
             ],
             [
              0.6666666666666666,
              "#ed7953"
             ],
             [
              0.7777777777777778,
              "#fb9f3a"
             ],
             [
              0.8888888888888888,
              "#fdca26"
             ],
             [
              1,
              "#f0f921"
             ]
            ],
            "type": "contour"
           }
          ],
          "contourcarpet": [
           {
            "colorbar": {
             "outlinewidth": 0,
             "ticks": ""
            },
            "type": "contourcarpet"
           }
          ],
          "heatmap": [
           {
            "colorbar": {
             "outlinewidth": 0,
             "ticks": ""
            },
            "colorscale": [
             [
              0,
              "#0d0887"
             ],
             [
              0.1111111111111111,
              "#46039f"
             ],
             [
              0.2222222222222222,
              "#7201a8"
             ],
             [
              0.3333333333333333,
              "#9c179e"
             ],
             [
              0.4444444444444444,
              "#bd3786"
             ],
             [
              0.5555555555555556,
              "#d8576b"
             ],
             [
              0.6666666666666666,
              "#ed7953"
             ],
             [
              0.7777777777777778,
              "#fb9f3a"
             ],
             [
              0.8888888888888888,
              "#fdca26"
             ],
             [
              1,
              "#f0f921"
             ]
            ],
            "type": "heatmap"
           }
          ],
          "heatmapgl": [
           {
            "colorbar": {
             "outlinewidth": 0,
             "ticks": ""
            },
            "colorscale": [
             [
              0,
              "#0d0887"
             ],
             [
              0.1111111111111111,
              "#46039f"
             ],
             [
              0.2222222222222222,
              "#7201a8"
             ],
             [
              0.3333333333333333,
              "#9c179e"
             ],
             [
              0.4444444444444444,
              "#bd3786"
             ],
             [
              0.5555555555555556,
              "#d8576b"
             ],
             [
              0.6666666666666666,
              "#ed7953"
             ],
             [
              0.7777777777777778,
              "#fb9f3a"
             ],
             [
              0.8888888888888888,
              "#fdca26"
             ],
             [
              1,
              "#f0f921"
             ]
            ],
            "type": "heatmapgl"
           }
          ],
          "histogram": [
           {
            "marker": {
             "pattern": {
              "fillmode": "overlay",
              "size": 10,
              "solidity": 0.2
             }
            },
            "type": "histogram"
           }
          ],
          "histogram2d": [
           {
            "colorbar": {
             "outlinewidth": 0,
             "ticks": ""
            },
            "colorscale": [
             [
              0,
              "#0d0887"
             ],
             [
              0.1111111111111111,
              "#46039f"
             ],
             [
              0.2222222222222222,
              "#7201a8"
             ],
             [
              0.3333333333333333,
              "#9c179e"
             ],
             [
              0.4444444444444444,
              "#bd3786"
             ],
             [
              0.5555555555555556,
              "#d8576b"
             ],
             [
              0.6666666666666666,
              "#ed7953"
             ],
             [
              0.7777777777777778,
              "#fb9f3a"
             ],
             [
              0.8888888888888888,
              "#fdca26"
             ],
             [
              1,
              "#f0f921"
             ]
            ],
            "type": "histogram2d"
           }
          ],
          "histogram2dcontour": [
           {
            "colorbar": {
             "outlinewidth": 0,
             "ticks": ""
            },
            "colorscale": [
             [
              0,
              "#0d0887"
             ],
             [
              0.1111111111111111,
              "#46039f"
             ],
             [
              0.2222222222222222,
              "#7201a8"
             ],
             [
              0.3333333333333333,
              "#9c179e"
             ],
             [
              0.4444444444444444,
              "#bd3786"
             ],
             [
              0.5555555555555556,
              "#d8576b"
             ],
             [
              0.6666666666666666,
              "#ed7953"
             ],
             [
              0.7777777777777778,
              "#fb9f3a"
             ],
             [
              0.8888888888888888,
              "#fdca26"
             ],
             [
              1,
              "#f0f921"
             ]
            ],
            "type": "histogram2dcontour"
           }
          ],
          "mesh3d": [
           {
            "colorbar": {
             "outlinewidth": 0,
             "ticks": ""
            },
            "type": "mesh3d"
           }
          ],
          "parcoords": [
           {
            "line": {
             "colorbar": {
              "outlinewidth": 0,
              "ticks": ""
             }
            },
            "type": "parcoords"
           }
          ],
          "pie": [
           {
            "automargin": true,
            "type": "pie"
           }
          ],
          "scatter": [
           {
            "fillpattern": {
             "fillmode": "overlay",
             "size": 10,
             "solidity": 0.2
            },
            "type": "scatter"
           }
          ],
          "scatter3d": [
           {
            "line": {
             "colorbar": {
              "outlinewidth": 0,
              "ticks": ""
             }
            },
            "marker": {
             "colorbar": {
              "outlinewidth": 0,
              "ticks": ""
             }
            },
            "type": "scatter3d"
           }
          ],
          "scattercarpet": [
           {
            "marker": {
             "colorbar": {
              "outlinewidth": 0,
              "ticks": ""
             }
            },
            "type": "scattercarpet"
           }
          ],
          "scattergeo": [
           {
            "marker": {
             "colorbar": {
              "outlinewidth": 0,
              "ticks": ""
             }
            },
            "type": "scattergeo"
           }
          ],
          "scattergl": [
           {
            "marker": {
             "colorbar": {
              "outlinewidth": 0,
              "ticks": ""
             }
            },
            "type": "scattergl"
           }
          ],
          "scattermapbox": [
           {
            "marker": {
             "colorbar": {
              "outlinewidth": 0,
              "ticks": ""
             }
            },
            "type": "scattermapbox"
           }
          ],
          "scatterpolar": [
           {
            "marker": {
             "colorbar": {
              "outlinewidth": 0,
              "ticks": ""
             }
            },
            "type": "scatterpolar"
           }
          ],
          "scatterpolargl": [
           {
            "marker": {
             "colorbar": {
              "outlinewidth": 0,
              "ticks": ""
             }
            },
            "type": "scatterpolargl"
           }
          ],
          "scatterternary": [
           {
            "marker": {
             "colorbar": {
              "outlinewidth": 0,
              "ticks": ""
             }
            },
            "type": "scatterternary"
           }
          ],
          "surface": [
           {
            "colorbar": {
             "outlinewidth": 0,
             "ticks": ""
            },
            "colorscale": [
             [
              0,
              "#0d0887"
             ],
             [
              0.1111111111111111,
              "#46039f"
             ],
             [
              0.2222222222222222,
              "#7201a8"
             ],
             [
              0.3333333333333333,
              "#9c179e"
             ],
             [
              0.4444444444444444,
              "#bd3786"
             ],
             [
              0.5555555555555556,
              "#d8576b"
             ],
             [
              0.6666666666666666,
              "#ed7953"
             ],
             [
              0.7777777777777778,
              "#fb9f3a"
             ],
             [
              0.8888888888888888,
              "#fdca26"
             ],
             [
              1,
              "#f0f921"
             ]
            ],
            "type": "surface"
           }
          ],
          "table": [
           {
            "cells": {
             "fill": {
              "color": "#EBF0F8"
             },
             "line": {
              "color": "white"
             }
            },
            "header": {
             "fill": {
              "color": "#C8D4E3"
             },
             "line": {
              "color": "white"
             }
            },
            "type": "table"
           }
          ]
         },
         "layout": {
          "annotationdefaults": {
           "arrowcolor": "#2a3f5f",
           "arrowhead": 0,
           "arrowwidth": 1
          },
          "autotypenumbers": "strict",
          "coloraxis": {
           "colorbar": {
            "outlinewidth": 0,
            "ticks": ""
           }
          },
          "colorscale": {
           "diverging": [
            [
             0,
             "#8e0152"
            ],
            [
             0.1,
             "#c51b7d"
            ],
            [
             0.2,
             "#de77ae"
            ],
            [
             0.3,
             "#f1b6da"
            ],
            [
             0.4,
             "#fde0ef"
            ],
            [
             0.5,
             "#f7f7f7"
            ],
            [
             0.6,
             "#e6f5d0"
            ],
            [
             0.7,
             "#b8e186"
            ],
            [
             0.8,
             "#7fbc41"
            ],
            [
             0.9,
             "#4d9221"
            ],
            [
             1,
             "#276419"
            ]
           ],
           "sequential": [
            [
             0,
             "#0d0887"
            ],
            [
             0.1111111111111111,
             "#46039f"
            ],
            [
             0.2222222222222222,
             "#7201a8"
            ],
            [
             0.3333333333333333,
             "#9c179e"
            ],
            [
             0.4444444444444444,
             "#bd3786"
            ],
            [
             0.5555555555555556,
             "#d8576b"
            ],
            [
             0.6666666666666666,
             "#ed7953"
            ],
            [
             0.7777777777777778,
             "#fb9f3a"
            ],
            [
             0.8888888888888888,
             "#fdca26"
            ],
            [
             1,
             "#f0f921"
            ]
           ],
           "sequentialminus": [
            [
             0,
             "#0d0887"
            ],
            [
             0.1111111111111111,
             "#46039f"
            ],
            [
             0.2222222222222222,
             "#7201a8"
            ],
            [
             0.3333333333333333,
             "#9c179e"
            ],
            [
             0.4444444444444444,
             "#bd3786"
            ],
            [
             0.5555555555555556,
             "#d8576b"
            ],
            [
             0.6666666666666666,
             "#ed7953"
            ],
            [
             0.7777777777777778,
             "#fb9f3a"
            ],
            [
             0.8888888888888888,
             "#fdca26"
            ],
            [
             1,
             "#f0f921"
            ]
           ]
          },
          "colorway": [
           "#636efa",
           "#EF553B",
           "#00cc96",
           "#ab63fa",
           "#FFA15A",
           "#19d3f3",
           "#FF6692",
           "#B6E880",
           "#FF97FF",
           "#FECB52"
          ],
          "font": {
           "color": "#2a3f5f"
          },
          "geo": {
           "bgcolor": "white",
           "lakecolor": "white",
           "landcolor": "#E5ECF6",
           "showlakes": true,
           "showland": true,
           "subunitcolor": "white"
          },
          "hoverlabel": {
           "align": "left"
          },
          "hovermode": "closest",
          "mapbox": {
           "style": "light"
          },
          "paper_bgcolor": "white",
          "plot_bgcolor": "#E5ECF6",
          "polar": {
           "angularaxis": {
            "gridcolor": "white",
            "linecolor": "white",
            "ticks": ""
           },
           "bgcolor": "#E5ECF6",
           "radialaxis": {
            "gridcolor": "white",
            "linecolor": "white",
            "ticks": ""
           }
          },
          "scene": {
           "xaxis": {
            "backgroundcolor": "#E5ECF6",
            "gridcolor": "white",
            "gridwidth": 2,
            "linecolor": "white",
            "showbackground": true,
            "ticks": "",
            "zerolinecolor": "white"
           },
           "yaxis": {
            "backgroundcolor": "#E5ECF6",
            "gridcolor": "white",
            "gridwidth": 2,
            "linecolor": "white",
            "showbackground": true,
            "ticks": "",
            "zerolinecolor": "white"
           },
           "zaxis": {
            "backgroundcolor": "#E5ECF6",
            "gridcolor": "white",
            "gridwidth": 2,
            "linecolor": "white",
            "showbackground": true,
            "ticks": "",
            "zerolinecolor": "white"
           }
          },
          "shapedefaults": {
           "line": {
            "color": "#2a3f5f"
           }
          },
          "ternary": {
           "aaxis": {
            "gridcolor": "white",
            "linecolor": "white",
            "ticks": ""
           },
           "baxis": {
            "gridcolor": "white",
            "linecolor": "white",
            "ticks": ""
           },
           "bgcolor": "#E5ECF6",
           "caxis": {
            "gridcolor": "white",
            "linecolor": "white",
            "ticks": ""
           }
          },
          "title": {
           "x": 0.05
          },
          "xaxis": {
           "automargin": true,
           "gridcolor": "white",
           "linecolor": "white",
           "ticks": "",
           "title": {
            "standoff": 15
           },
           "zerolinecolor": "white",
           "zerolinewidth": 2
          },
          "yaxis": {
           "automargin": true,
           "gridcolor": "white",
           "linecolor": "white",
           "ticks": "",
           "title": {
            "standoff": 15
           },
           "zerolinecolor": "white",
           "zerolinewidth": 2
          }
         }
        },
        "xaxis": {
         "anchor": "y",
         "autorange": true,
         "constrain": "domain",
         "domain": [
          0.39450056116722787,
          0.6054994388327721
         ],
         "range": [
          -0.5,
          5.5
         ],
         "scaleanchor": "y",
         "type": "category"
        },
        "yaxis": {
         "anchor": "x",
         "autorange": true,
         "constrain": "domain",
         "domain": [
          0,
          1
         ],
         "range": [
          5.5,
          -0.5
         ],
         "type": "category"
        }
       }
      },
      "image/png": "[encoded data removed]",
      "text/html": [
       "<div>                            <div id=\"31e77d2d-c353-4c1d-a9aa-4d06b455ab1a\" class=\"plotly-graph-div\" style=\"height:525px; width:100%;\"></div>            <script type=\"text/javascript\">                require([\"plotly\"], function(Plotly) {                    window.PLOTLYENV=window.PLOTLYENV || {};                                    if (document.getElementById(\"31e77d2d-c353-4c1d-a9aa-4d06b455ab1a\")) {                    Plotly.newPlot(                        \"31e77d2d-c353-4c1d-a9aa-4d06b455ab1a\",                        [{\"coloraxis\":\"coloraxis\",\"name\":\"0\",\"texttemplate\":\"%{z}\",\"x\":[\"loan_amount\",\"lender_count\",\"funded_rating\",\"ratio_women\",\"applicant_equity\",\"monthly_refund_percentage\"],\"y\":[\"loan_amount\",\"lender_count\",\"funded_rating\",\"ratio_women\",\"applicant_equity\",\"monthly_refund_percentage\"],\"z\":[[1.0,0.798,-0.115,-0.067,-0.407,-0.073],[0.798,1.0,0.092,-0.062,-0.293,-0.15],[-0.115,0.092,1.0,0.148,-0.016,0.164],[-0.067,-0.062,0.148,1.0,-0.051,0.164],[-0.407,-0.293,-0.016,-0.051,1.0,-0.19],[-0.073,-0.15,0.164,0.164,-0.19,1.0]],\"type\":\"heatmap\",\"xaxis\":\"x\",\"yaxis\":\"y\",\"hovertemplate\":\"x: %{x}\\u003cbr\\u003ey: %{y}\\u003cbr\\u003ecolor: %{z}\\u003cextra\\u003e\\u003c\\u002fextra\\u003e\"}],                        {\"template\":{\"data\":{\"histogram2dcontour\":[{\"type\":\"histogram2dcontour\",\"colorbar\":{\"outlinewidth\":0,\"ticks\":\"\"},\"colorscale\":[[0.0,\"#0d0887\"],[0.1111111111111111,\"#46039f\"],[0.2222222222222222,\"#7201a8\"],[0.3333333333333333,\"#9c179e\"],[0.4444444444444444,\"#bd3786\"],[0.5555555555555556,\"#d8576b\"],[0.6666666666666666,\"#ed7953\"],[0.7777777777777778,\"#fb9f3a\"],[0.8888888888888888,\"#fdca26\"],[1.0,\"#f0f921\"]]}],\"choropleth\":[{\"type\":\"choropleth\",\"colorbar\":{\"outlinewidth\":0,\"ticks\":\"\"}}],\"histogram2d\":[{\"type\":\"histogram2d\",\"colorbar\":{\"outlinewidth\":0,\"ticks\":\"\"},\"colorscale\":[[0.0,\"#0d0887\"],[0.1111111111111111,\"#46039f\"],[0.2222222222222222,\"#7201a8\"],[0.3333333333333333,\"#9c179e\"],[0.4444444444444444,\"#bd3786\"],[0.5555555555555556,\"#d8576b\"],[0.6666666666666666,\"#ed7953\"],[0.7777777777777778,\"#fb9f3a\"],[0.8888888888888888,\"#fdca26\"],[1.0,\"#f0f921\"]]}],\"heatmap\":[{\"type\":\"heatmap\",\"colorbar\":{\"outlinewidth\":0,\"ticks\":\"\"},\"colorscale\":[[0.0,\"#0d0887\"],[0.1111111111111111,\"#46039f\"],[0.2222222222222222,\"#7201a8\"],[0.3333333333333333,\"#9c179e\"],[0.4444444444444444,\"#bd3786\"],[0.5555555555555556,\"#d8576b\"],[0.6666666666666666,\"#ed7953\"],[0.7777777777777778,\"#fb9f3a\"],[0.8888888888888888,\"#fdca26\"],[1.0,\"#f0f921\"]]}],\"heatmapgl\":[{\"type\":\"heatmapgl\",\"colorbar\":{\"outlinewidth\":0,\"ticks\":\"\"},\"colorscale\":[[0.0,\"#0d0887\"],[0.1111111111111111,\"#46039f\"],[0.2222222222222222,\"#7201a8\"],[0.3333333333333333,\"#9c179e\"],[0.4444444444444444,\"#bd3786\"],[0.5555555555555556,\"#d8576b\"],[0.6666666666666666,\"#ed7953\"],[0.7777777777777778,\"#fb9f3a\"],[0.8888888888888888,\"#fdca26\"],[1.0,\"#f0f921\"]]}],\"contourcarpet\":[{\"type\":\"contourcarpet\",\"colorbar\":{\"outlinewidth\":0,\"ticks\":\"\"}}],\"contour\":[{\"type\":\"contour\",\"colorbar\":{\"outlinewidth\":0,\"ticks\":\"\"},\"colorscale\":[[0.0,\"#0d0887\"],[0.1111111111111111,\"#46039f\"],[0.2222222222222222,\"#7201a8\"],[0.3333333333333333,\"#9c179e\"],[0.4444444444444444,\"#bd3786\"],[0.5555555555555556,\"#d8576b\"],[0.6666666666666666,\"#ed7953\"],[0.7777777777777778,\"#fb9f3a\"],[0.8888888888888888,\"#fdca26\"],[1.0,\"#f0f921\"]]}],\"surface\":[{\"type\":\"surface\",\"colorbar\":{\"outlinewidth\":0,\"ticks\":\"\"},\"colorscale\":[[0.0,\"#0d0887\"],[0.1111111111111111,\"#46039f\"],[0.2222222222222222,\"#7201a8\"],[0.3333333333333333,\"#9c179e\"],[0.4444444444444444,\"#bd3786\"],[0.5555555555555556,\"#d8576b\"],[0.6666666666666666,\"#ed7953\"],[0.7777777777777778,\"#fb9f3a\"],[0.8888888888888888,\"#fdca26\"],[1.0,\"#f0f921\"]]}],\"mesh3d\":[{\"type\":\"mesh3d\",\"colorbar\":{\"outlinewidth\":0,\"ticks\":\"\"}}],\"scatter\":[{\"fillpattern\":{\"fillmode\":\"overlay\",\"size\":10,\"solidity\":0.2},\"type\":\"scatter\"}],\"parcoords\":[{\"type\":\"parcoords\",\"line\":{\"colorbar\":{\"outlinewidth\":0,\"ticks\":\"\"}}}],\"scatterpolargl\":[{\"type\":\"scatterpolargl\",\"marker\":{\"colorbar\":{\"outlinewidth\":0,\"ticks\":\"\"}}}],\"bar\":[{\"error_x\":{\"color\":\"#2a3f5f\"},\"error_y\":{\"color\":\"#2a3f5f\"},\"marker\":{\"line\":{\"color\":\"#E5ECF6\",\"width\":0.5},\"pattern\":{\"fillmode\":\"overlay\",\"size\":10,\"solidity\":0.2}},\"type\":\"bar\"}],\"scattergeo\":[{\"type\":\"scattergeo\",\"marker\":{\"colorbar\":{\"outlinewidth\":0,\"ticks\":\"\"}}}],\"scatterpolar\":[{\"type\":\"scatterpolar\",\"marker\":{\"colorbar\":{\"outlinewidth\":0,\"ticks\":\"\"}}}],\"histogram\":[{\"marker\":{\"pattern\":{\"fillmode\":\"overlay\",\"size\":10,\"solidity\":0.2}},\"type\":\"histogram\"}],\"scattergl\":[{\"type\":\"scattergl\",\"marker\":{\"colorbar\":{\"outlinewidth\":0,\"ticks\":\"\"}}}],\"scatter3d\":[{\"type\":\"scatter3d\",\"line\":{\"colorbar\":{\"outlinewidth\":0,\"ticks\":\"\"}},\"marker\":{\"colorbar\":{\"outlinewidth\":0,\"ticks\":\"\"}}}],\"scattermapbox\":[{\"type\":\"scattermapbox\",\"marker\":{\"colorbar\":{\"outlinewidth\":0,\"ticks\":\"\"}}}],\"scatterternary\":[{\"type\":\"scatterternary\",\"marker\":{\"colorbar\":{\"outlinewidth\":0,\"ticks\":\"\"}}}],\"scattercarpet\":[{\"type\":\"scattercarpet\",\"marker\":{\"colorbar\":{\"outlinewidth\":0,\"ticks\":\"\"}}}],\"carpet\":[{\"aaxis\":{\"endlinecolor\":\"#2a3f5f\",\"gridcolor\":\"white\",\"linecolor\":\"white\",\"minorgridcolor\":\"white\",\"startlinecolor\":\"#2a3f5f\"},\"baxis\":{\"endlinecolor\":\"#2a3f5f\",\"gridcolor\":\"white\",\"linecolor\":\"white\",\"minorgridcolor\":\"white\",\"startlinecolor\":\"#2a3f5f\"},\"type\":\"carpet\"}],\"table\":[{\"cells\":{\"fill\":{\"color\":\"#EBF0F8\"},\"line\":{\"color\":\"white\"}},\"header\":{\"fill\":{\"color\":\"#C8D4E3\"},\"line\":{\"color\":\"white\"}},\"type\":\"table\"}],\"barpolar\":[{\"marker\":{\"line\":{\"color\":\"#E5ECF6\",\"width\":0.5},\"pattern\":{\"fillmode\":\"overlay\",\"size\":10,\"solidity\":0.2}},\"type\":\"barpolar\"}],\"pie\":[{\"automargin\":true,\"type\":\"pie\"}]},\"layout\":{\"autotypenumbers\":\"strict\",\"colorway\":[\"#636efa\",\"#EF553B\",\"#00cc96\",\"#ab63fa\",\"#FFA15A\",\"#19d3f3\",\"#FF6692\",\"#B6E880\",\"#FF97FF\",\"#FECB52\"],\"font\":{\"color\":\"#2a3f5f\"},\"hovermode\":\"closest\",\"hoverlabel\":{\"align\":\"left\"},\"paper_bgcolor\":\"white\",\"plot_bgcolor\":\"#E5ECF6\",\"polar\":{\"bgcolor\":\"#E5ECF6\",\"angularaxis\":{\"gridcolor\":\"white\",\"linecolor\":\"white\",\"ticks\":\"\"},\"radialaxis\":{\"gridcolor\":\"white\",\"linecolor\":\"white\",\"ticks\":\"\"}},\"ternary\":{\"bgcolor\":\"#E5ECF6\",\"aaxis\":{\"gridcolor\":\"white\",\"linecolor\":\"white\",\"ticks\":\"\"},\"baxis\":{\"gridcolor\":\"white\",\"linecolor\":\"white\",\"ticks\":\"\"},\"caxis\":{\"gridcolor\":\"white\",\"linecolor\":\"white\",\"ticks\":\"\"}},\"coloraxis\":{\"colorbar\":{\"outlinewidth\":0,\"ticks\":\"\"}},\"colorscale\":{\"sequential\":[[0.0,\"#0d0887\"],[0.1111111111111111,\"#46039f\"],[0.2222222222222222,\"#7201a8\"],[0.3333333333333333,\"#9c179e\"],[0.4444444444444444,\"#bd3786\"],[0.5555555555555556,\"#d8576b\"],[0.6666666666666666,\"#ed7953\"],[0.7777777777777778,\"#fb9f3a\"],[0.8888888888888888,\"#fdca26\"],[1.0,\"#f0f921\"]],\"sequentialminus\":[[0.0,\"#0d0887\"],[0.1111111111111111,\"#46039f\"],[0.2222222222222222,\"#7201a8\"],[0.3333333333333333,\"#9c179e\"],[0.4444444444444444,\"#bd3786\"],[0.5555555555555556,\"#d8576b\"],[0.6666666666666666,\"#ed7953\"],[0.7777777777777778,\"#fb9f3a\"],[0.8888888888888888,\"#fdca26\"],[1.0,\"#f0f921\"]],\"diverging\":[[0,\"#8e0152\"],[0.1,\"#c51b7d\"],[0.2,\"#de77ae\"],[0.3,\"#f1b6da\"],[0.4,\"#fde0ef\"],[0.5,\"#f7f7f7\"],[0.6,\"#e6f5d0\"],[0.7,\"#b8e186\"],[0.8,\"#7fbc41\"],[0.9,\"#4d9221\"],[1,\"#276419\"]]},\"xaxis\":{\"gridcolor\":\"white\",\"linecolor\":\"white\",\"ticks\":\"\",\"title\":{\"standoff\":15},\"zerolinecolor\":\"white\",\"automargin\":true,\"zerolinewidth\":2},\"yaxis\":{\"gridcolor\":\"white\",\"linecolor\":\"white\",\"ticks\":\"\",\"title\":{\"standoff\":15},\"zerolinecolor\":\"white\",\"automargin\":true,\"zerolinewidth\":2},\"scene\":{\"xaxis\":{\"backgroundcolor\":\"#E5ECF6\",\"gridcolor\":\"white\",\"linecolor\":\"white\",\"showbackground\":true,\"ticks\":\"\",\"zerolinecolor\":\"white\",\"gridwidth\":2},\"yaxis\":{\"backgroundcolor\":\"#E5ECF6\",\"gridcolor\":\"white\",\"linecolor\":\"white\",\"showbackground\":true,\"ticks\":\"\",\"zerolinecolor\":\"white\",\"gridwidth\":2},\"zaxis\":{\"backgroundcolor\":\"#E5ECF6\",\"gridcolor\":\"white\",\"linecolor\":\"white\",\"showbackground\":true,\"ticks\":\"\",\"zerolinecolor\":\"white\",\"gridwidth\":2}},\"shapedefaults\":{\"line\":{\"color\":\"#2a3f5f\"}},\"annotationdefaults\":{\"arrowcolor\":\"#2a3f5f\",\"arrowhead\":0,\"arrowwidth\":1},\"geo\":{\"bgcolor\":\"white\",\"landcolor\":\"#E5ECF6\",\"subunitcolor\":\"white\",\"showland\":true,\"showlakes\":true,\"lakecolor\":\"white\"},\"title\":{\"x\":0.05},\"mapbox\":{\"style\":\"light\"}}},\"xaxis\":{\"anchor\":\"y\",\"domain\":[0.0,1.0],\"scaleanchor\":\"y\",\"constrain\":\"domain\"},\"yaxis\":{\"anchor\":\"x\",\"domain\":[0.0,1.0],\"autorange\":\"reversed\",\"constrain\":\"domain\"},\"coloraxis\":{\"colorscale\":[[0.0,\"crimson\"],[0.25,\"yellow\"],[0.5,\"lime\"],[0.75,\"yellow\"],[1.0,\"crimson\"]],\"cmin\":-1,\"cmax\":1},\"margin\":{\"t\":60}},                        {\"responsive\": true}                    ).then(function(){\n",
       "                            \n",
       "var gd = document.getElementById('31e77d2d-c353-4c1d-a9aa-4d06b455ab1a');\n",
       "var x = new MutationObserver(function (mutations, observer) {{\n",
       "        var display = window.getComputedStyle(gd).display;\n",
       "        if (!display || display === 'none') {{\n",
       "            console.log([gd, 'removed!']);\n",
       "            Plotly.purge(gd);\n",
       "            observer.disconnect();\n",
       "        }}\n",
       "}});\n",
       "\n",
       "// Listen for the removal of the full notebook cells\n",
       "var notebookContainer = gd.closest('#notebook-container');\n",
       "if (notebookContainer) {{\n",
       "    x.observe(notebookContainer, {childList: true});\n",
       "}}\n",
       "\n",
       "// Listen for the clearing of the current output cell\n",
       "var outputEl = gd.closest('.output');\n",
       "if (outputEl) {{\n",
       "    x.observe(outputEl, {childList: true});\n",
       "}}\n",
       "\n",
       "                        })                };                });            </script>        </div>"
      ]
     },
     "metadata": {},
     "output_type": "display_data"
    }
   ],
   "source": [
    "imshowplot1 = px.imshow(df_corr,\n",
    "                        text_auto=True,\n",
    "                        color_continuous_scale = ['crimson','yellow', 'lime', 'yellow', 'crimson'],\n",
    "                        zmin=-1,\n",
    "                        zmax=1\n",
    "                       )\n",
    "\n",
    "imshowplot1.show()"
   ]
  },
  {
   "cell_type": "markdown",
   "id": "d0b3baa5",
   "metadata": {},
   "source": [
    "\n",
    "#### Anreicherung der Daten mit Ländercodes.\n",
    "  - Eine CSV-Datei mit ISO-Ländercodes (`ccodes`) wird geladen.\n",
    "  - `df_clean` wird mit `ccodes` zusammengeführt, um 3-Buchstaben-ISO-Ländercodes (`country_code_iso3`) hinzuzufügen, unter Verwendung von 2-Buchstaben-Ländercodes (`country_code`).\n"
   ]
  },
  {
   "cell_type": "code",
   "execution_count": 95,
   "id": "1c883b08",
   "metadata": {},
   "outputs": [],
   "source": [
    "ccodes=pd.read_csv(\"wikipedia-iso-country-codes.csv\")\n",
    "df_clean = df_clean.merge(ccodes[[\"Alpha-2 code\", \"Alpha-3 code\"]],\n",
    "         how=\"inner\",\n",
    "         left_on=\"country_code\",\n",
    "         right_on=\"Alpha-2 code\"\n",
    "        ).drop(columns = ['Alpha-2 code'])\n",
    "df_clean.rename(columns={\"Alpha-3 code\":\"country_code_iso3\"}, inplace=True)"
   ]
  },
  {
   "cell_type": "markdown",
   "id": "109fc634",
   "metadata": {},
   "source": [
    "\n",
    "#### Funktionen zur Umwandlung von Textdaten in Kategorien und zum Entfernen ungenutzter Kategorien.**\n",
    "  - `df_to_cats`: wandelt Spalten mit Textdaten in Kategorien um, wenn weniger als 600 einzigartige Werte vorhanden sind.\n",
    "  - `df_del_unused_cats`: entfernt ungenutzte Kategorien aus kategorialen Spalten.\n"
   ]
  },
  {
   "cell_type": "code",
   "execution_count": 97,
   "id": "87b6ca99",
   "metadata": {},
   "outputs": [],
   "source": [
    "def df_to_cats(df = None):\n",
    "    if df is None:\n",
    "        return\n",
    "    for col in df.columns[df.dtypes == object]:\n",
    "        if df[col].nunique() < 600:\n",
    "            df[col] = df[col].astype('category')\n",
    "    return df\n",
    "\n",
    "def df_del_unused_cats(df = None):\n",
    "    if df is None:\n",
    "        return\n",
    "    for col in df.columns[df.dtypes == \"category\"]:\n",
    "        df[col].cat.remove_unused_categories()\n",
    "    return df.info()"
   ]
  },
  {
   "cell_type": "markdown",
   "id": "554a5937",
   "metadata": {},
   "source": [
    "\n",
    "#### Anwendung der Funktionen auf `df_clean` und Anzeige von Informationen über den DataFrame.\n",
    "  - Werden Informationen über `df_clean` vor und nach der Umwandlung von Textdaten in Kategorien angezeigt.\n"
   ]
  },
  {
   "cell_type": "code",
   "execution_count": 99,
   "id": "101c3e87",
   "metadata": {},
   "outputs": [
    {
     "name": "stdout",
     "output_type": "stream",
     "text": [
      "<class 'pandas.core.frame.DataFrame'>\n",
      "RangeIndex: 623466 entries, 0 to 623465\n",
      "Data columns (total 16 columns):\n",
      " #   Column                     Non-Null Count   Dtype  \n",
      "---  ------                     --------------   -----  \n",
      " 0   loan_amount                623466 non-null  float64\n",
      " 1   activity                   623466 non-null  object \n",
      " 2   sector                     623466 non-null  object \n",
      " 3   use                        623466 non-null  object \n",
      " 4   country_code               623466 non-null  object \n",
      " 5   country                    623466 non-null  object \n",
      " 6   region                     623466 non-null  object \n",
      " 7   currency                   623466 non-null  object \n",
      " 8   lender_count               623466 non-null  int64  \n",
      " 9   repayment_interval         623466 non-null  object \n",
      " 10  funded_rating              623466 non-null  float64\n",
      " 11  loan_category              623466 non-null  object \n",
      " 12  ratio_women                623466 non-null  float64\n",
      " 13  applicant_equity           623466 non-null  float64\n",
      " 14  monthly_refund_percentage  623466 non-null  float64\n",
      " 15  country_code_iso3          623466 non-null  object \n",
      "dtypes: float64(5), int64(1), object(10)\n",
      "memory usage: 76.1+ MB\n"
     ]
    }
   ],
   "source": [
    "df_clean.info()"
   ]
  },
  {
   "cell_type": "code",
   "execution_count": 101,
   "id": "5c4dbf90",
   "metadata": {},
   "outputs": [],
   "source": [
    "df_clean=df_to_cats(df_clean)"
   ]
  },
  {
   "cell_type": "markdown",
   "id": "c97aa6ee",
   "metadata": {},
   "source": [
    "\n"
   ]
  },
  {
   "cell_type": "code",
   "execution_count": 103,
   "id": "b25538f8",
   "metadata": {},
   "outputs": [
    {
     "name": "stdout",
     "output_type": "stream",
     "text": [
      "<class 'pandas.core.frame.DataFrame'>\n",
      "RangeIndex: 623466 entries, 0 to 623465\n",
      "Data columns (total 16 columns):\n",
      " #   Column                     Non-Null Count   Dtype   \n",
      "---  ------                     --------------   -----   \n",
      " 0   loan_amount                623466 non-null  float64 \n",
      " 1   activity                   623466 non-null  category\n",
      " 2   sector                     623466 non-null  category\n",
      " 3   use                        623466 non-null  object  \n",
      " 4   country_code               623466 non-null  category\n",
      " 5   country                    623466 non-null  category\n",
      " 6   region                     623466 non-null  object  \n",
      " 7   currency                   623466 non-null  category\n",
      " 8   lender_count               623466 non-null  int64   \n",
      " 9   repayment_interval         623466 non-null  category\n",
      " 10  funded_rating              623466 non-null  float64 \n",
      " 11  loan_category              623466 non-null  category\n",
      " 12  ratio_women                623466 non-null  float64 \n",
      " 13  applicant_equity           623466 non-null  float64 \n",
      " 14  monthly_refund_percentage  623466 non-null  float64 \n",
      " 15  country_code_iso3          623466 non-null  category\n",
      "dtypes: category(8), float64(5), int64(1), object(2)\n",
      "memory usage: 43.4+ MB\n"
     ]
    }
   ],
   "source": [
    "df_clean.info()"
   ]
  },
  {
   "cell_type": "markdown",
   "id": "2ac32a12",
   "metadata": {},
   "source": [
    "#### Neuordnung der Kategorien in der Spalte `loan_category`.\n",
    "  - Die Kategorien in `loan_category` werden in aufsteigender Reihenfolge neu geordnet: von \"modest\" zu \"high\"."
   ]
  },
  {
   "cell_type": "code",
   "execution_count": 105,
   "id": "344aa6f9",
   "metadata": {},
   "outputs": [],
   "source": [
    "df_clean.loan_category=df_clean.loan_category.cat.reorder_categories([\"modest\",\"middling\",\"elevated\",\"high\"],\n",
    "                                                                     ordered=True)"
   ]
  },
  {
   "cell_type": "markdown",
   "id": "b02296ea",
   "metadata": {},
   "source": [
    "#### Speichern des bereinigten und verarbeiteten DataFrames.\n",
    "  - `df_clean` wird im Pickle-Format unter dem Namen \"df_kiva_clean.pkl\" für die spätere Verwendung gespeichert."
   ]
  },
  {
   "cell_type": "code",
   "execution_count": 107,
   "id": "1d2334ac",
   "metadata": {},
   "outputs": [],
   "source": [
    "df_clean.to_pickle(\"df_kiva_clean.pkl\")"
   ]
  },
  {
   "cell_type": "code",
   "execution_count": null,
   "id": "1846d5ff",
   "metadata": {},
   "outputs": [],
   "source": []
  }
 ],
 "metadata": {
  "kernelspec": {
   "display_name": "Python 3 (ipykernel)",
   "language": "python",
   "name": "python3"
  },
  "language_info": {
   "codemirror_mode": {
    "name": "ipython",
    "version": 3
   },
   "file_extension": ".py",
   "mimetype": "text/x-python",
   "name": "python",
   "nbconvert_exporter": "python",
   "pygments_lexer": "ipython3",
   "version": "3.11.8"
  },
  "toc": {
   "base_numbering": 1,
   "nav_menu": {},
   "number_sections": true,
   "sideBar": true,
   "skip_h1_title": false,
   "title_cell": "Table of Contents",
   "title_sidebar": "Contents",
   "toc_cell": false,
   "toc_position": {},
   "toc_section_display": true,
   "toc_window_display": false
  },
  "varInspector": {
   "cols": {
    "lenName": 16,
    "lenType": 16,
    "lenVar": 40
   },
   "kernels_config": {
    "python": {
     "delete_cmd_postfix": "",
     "delete_cmd_prefix": "del ",
     "library": "var_list.py",
     "varRefreshCmd": "print(var_dic_list())"
    },
    "r": {
     "delete_cmd_postfix": ") ",
     "delete_cmd_prefix": "rm(",
     "library": "var_list.r",
     "varRefreshCmd": "cat(var_dic_list()) "
    }
   },
   "types_to_exclude": [
    "module",
    "function",
    "builtin_function_or_method",
    "instance",
    "_Feature"
   ],
   "window_display": false
  }
 },
 "nbformat": 4,
 "nbformat_minor": 5
}
